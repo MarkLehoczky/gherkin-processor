{
 "cells": [
  {
   "cell_type": "markdown",
   "metadata": {},
   "source": [
    "# Gherkin Processor Module Examples\n",
    "This notebook demonstrates the usage of the Gherkin Processor module functions."
   ]
  },
  {
   "cell_type": "code",
   "execution_count": 1,
   "metadata": {},
   "outputs": [],
   "source": [
    "# Import necessary functions\n",
    "from gherkin_processor.utils import process, load, save, validate, is_valid, issue"
   ]
  },
  {
   "cell_type": "markdown",
   "metadata": {},
   "source": [
    "## Example 1: Process Gherkin Text\n",
    "Convert a Gherkin text into a Python object."
   ]
  },
  {
   "cell_type": "code",
   "execution_count": 2,
   "metadata": {},
   "outputs": [
    {
     "name": "stdout",
     "output_type": "stream",
     "text": [
      "Feature: User login\n",
      "\n",
      "\n",
      "Scenario: Login attempt with valid credentials\n",
      "Given I navigate to the login page\n",
      "When I enter the username \"user@example.com\"\n",
      "When I enter the password \"password123\"\n",
      "Then I am navigated to the homepage\n"
     ]
    }
   ],
   "source": [
    "with open(\"examples/data/simple.feature\", \"r\") as file:\n",
    "    gherkin_text = file.read()\n",
    "gherkin_obj = process(gherkin_text)\n",
    "print(gherkin_obj.to_string())"
   ]
  },
  {
   "cell_type": "markdown",
   "metadata": {},
   "source": [
    "## Example 2: Load Gherkin File\n",
    "Load a Gherkin file and process it into a Python object."
   ]
  },
  {
   "cell_type": "code",
   "execution_count": 3,
   "metadata": {},
   "outputs": [
    {
     "name": "stdout",
     "output_type": "stream",
     "text": [
      "Feature: User login\n",
      "\n",
      "\n",
      "Scenario: Login attempt with valid credentials\n",
      "Given I navigate to the login page\n",
      "When I enter the username \"user@example.com\"\n",
      "When I enter the password \"password123\"\n",
      "Then I am navigated to the homepage\n"
     ]
    }
   ],
   "source": [
    "gherkin_obj = load(\"examples/data/simple.feature\")\n",
    "print(gherkin_obj.to_string())"
   ]
  },
  {
   "cell_type": "markdown",
   "metadata": {},
   "source": [
    "## Example 3: Save Gherkin Object\n",
    "Save a Gherkin object to a file in Gherkin and JSON formats."
   ]
  },
  {
   "cell_type": "code",
   "execution_count": 4,
   "metadata": {},
   "outputs": [
    {
     "data": {
      "text/plain": [
       "True"
      ]
     },
     "execution_count": 4,
     "metadata": {},
     "output_type": "execute_result"
    }
   ],
   "source": [
    "save(gherkin_obj, \"examples/data/output/example.feature\", mode=\"GHERKIN\")\n",
    "save(gherkin_obj, \"examples/data/output/example.json\", mode=\"JSON\")"
   ]
  },
  {
   "cell_type": "markdown",
   "metadata": {},
   "source": [
    "## Example 4: Validate Gherkin Text\n",
    "Validate the syntax of a Gherkin text."
   ]
  },
  {
   "cell_type": "code",
   "execution_count": 5,
   "metadata": {},
   "outputs": [
    {
     "name": "stdout",
     "output_type": "stream",
     "text": [
      "Gherkin text is valid.\n"
     ]
    }
   ],
   "source": [
    "try:\n",
    "    validate(gherkin_text)\n",
    "    print(\"Gherkin text is valid.\")\n",
    "except ValueError as e:\n",
    "    print(f\"Validation failed: {e}\")"
   ]
  },
  {
   "cell_type": "markdown",
   "metadata": {},
   "source": [
    "## Example 5: Check if Gherkin Text is Valid\n",
    "Check if a Gherkin text is valid without raising exceptions."
   ]
  },
  {
   "cell_type": "code",
   "execution_count": 6,
   "metadata": {},
   "outputs": [
    {
     "name": "stdout",
     "output_type": "stream",
     "text": [
      "Is the Gherkin text valid? True\n"
     ]
    }
   ],
   "source": [
    "is_valid_text = is_valid(gherkin_text)\n",
    "print(f\"Is the Gherkin text valid? {is_valid_text}\")"
   ]
  },
  {
   "cell_type": "markdown",
   "metadata": {},
   "source": [
    "## Example 6: Identify Issues in Gherkin Text\n",
    "Identify and print issues in a Gherkin text."
   ]
  },
  {
   "cell_type": "code",
   "execution_count": 7,
   "metadata": {},
   "outputs": [
    {
     "name": "stdout",
     "output_type": "stream",
     "text": [
      "No issues found.\n"
     ]
    }
   ],
   "source": [
    "issues = issue(gherkin_text)\n",
    "if issues:\n",
    "    print(f\"Issues found: {issues}\")\n",
    "else:\n",
    "    print(\"No issues found.\")"
   ]
  }
 ],
 "metadata": {
  "kernelspec": {
   "display_name": "Python 3",
   "language": "python",
   "name": "python3"
  },
  "language_info": {
   "codemirror_mode": {
    "name": "ipython",
    "version": 3
   },
   "file_extension": ".py",
   "mimetype": "text/x-python",
   "name": "python",
   "nbconvert_exporter": "python",
   "pygments_lexer": "ipython3",
   "version": "3.13.2"
  }
 },
 "nbformat": 4,
 "nbformat_minor": 2
}
