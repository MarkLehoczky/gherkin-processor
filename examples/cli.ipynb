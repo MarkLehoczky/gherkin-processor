{
 "cells": [
  {
   "cell_type": "markdown",
   "metadata": {},
   "source": [
    "# Command Line Interface (CLI) Examples\n",
    "\n",
    "This notebook demonstrates how to use the **Gherkin Processor** via the *command line interface* (*CLI*).\n",
    "\n",
    "> Note: This notebook assumes that the **Gherkin Processor** package is already installed. See the *[Installation](../README.md/#installation)* guide for details.\n",
    "> \n",
    "> The *INPUT* argument must be defined at every script, except when the *help* option is selected."
   ]
  },
  {
   "cell_type": "markdown",
   "metadata": {},
   "source": [
    "## Print\n",
    "\n",
    "The processed Gherkin scenario can be printed to the standard output. This will print the text version of the processed scenario."
   ]
  },
  {
   "cell_type": "code",
   "execution_count": 1,
   "metadata": {
    "vscode": {
     "languageId": "shellscript"
    }
   },
   "outputs": [
    {
     "name": "stdout",
     "output_type": "stream",
     "text": [
      "\n",
      "Scenario: Make hotdog\n",
      "Given the sausage is cooked\n",
      "When the sausage is put into a bun\n",
      "Then the hotdog is ready to eat\n"
     ]
    }
   ],
   "source": [
    "! gherkin-processor -i examples/data/simple_example.feature -p"
   ]
  },
  {
   "cell_type": "code",
   "execution_count": 2,
   "metadata": {
    "vscode": {
     "languageId": "shellscript"
    }
   },
   "outputs": [
    {
     "name": "stdout",
     "output_type": "stream",
     "text": [
      "@american\n",
      "@canadian\n",
      "@italian\n",
      "Scenario Template: Make pizza\n",
      "Given we knead the dough into a <Size> wide pizza disc\n",
      "\"\"\"markdown\n",
      "# Pizza Dough Recipe\n",
      "\n",
      "> Source: [Sam Merritt - The Best Pizza Dough Recipe (article)](https://sugarspunrun.com/the-best-pizza-dough-recipe/)\n",
      "\n",
      "## Ingredients\n",
      "\n",
      "- [ ] 2-2 ⅓ cups all-purpose flour OR bread flour divided (250-295g)\n",
      "- [ ] 1 packet instant yeast (2 ¼ teaspoon)\n",
      "- [ ] 1 ½ teaspoons sugar\n",
      "- [ ] ¾ teaspoon salt\n",
      "- [ ] ⅛-¼ teaspoon garlic powder and/or dried basil leaves optional\n",
      "- [ ] 2 Tablespoons olive oil + additional\n",
      "- [ ] ¾ cup warm water (175ml)\n",
      "\n",
      "## Instructions\n",
      "\n",
      "1. Combine 1 cup (125g) of flour, instant yeast, sugar, and salt in a large bowl. If desired, add garlic powder and dried basil at this point as well.\n",
      "2. Add olive oil and warm water and use a wooden spoon to stir well very well.\n",
      "3. Gradually add another 1 cup (125g) of flour. Add any additional flour as needed (I've found that sometimes I need as much as an additional ⅓ cup), stirring until the dough is forming into a cohesive, elastic ball and is beginning to pull away from the sides of the bowl (see video above recipe for visual cue). The dough will still be slightly sticky but still should be manageable with your hands.\n",
      "4. Drizzle a separate, large, clean bowl generously with olive oil and use a pastry brush to brush up the sides of the bowl.\n",
      "5. Lightly dust your hands with flour and form your pizza dough into a round ball and transfer to your olive oil-brushed bowl. Use your hands to roll the pizza dough along the inside of the bowl until it is coated in olive oil, then cover the bowl tightly with plastic wrap and place it in a warm place.\n",
      "6. Allow dough to rise for 30 minutes or until doubled in size. If you intend to bake this dough into a pizza, I also recommend preheating your oven to 425F (215C) at this point so that it will have reached temperature once your pizza is ready to bake.\n",
      "7. Once the dough has risen, use your hands to gently deflate it and transfer to a lightly floured surface and knead briefly until smooth (about 3-5 times). \n",
      "8. Use either your hands or a rolling pin to work the dough into 12\" circle.\n",
      "9. Transfer dough to a parchment paper lined pizza pan and either pinch the edges or fold them over to form a crust.\n",
      "10. Drizzle additional olive oil (about a Tablespoon) over the top of the pizza and use your pastry brush to brush the entire surface of the pizza (including the crust) with olive oil. \n",
      "11. Use a fork to poke holes all over the center of the pizza to keep the dough from bubbling up in the oven.\n",
      "\"\"\"\n",
      "Given we put the ingredients on the pizza disc in the following order:\n",
      "| Order      |\n",
      "| <Sauce>    |\n",
      "| <Toppings> |\n",
      "When we cook the pizza\n",
      "Then the <Type> pizza is ready to eat\n",
      "Scenarios:\n",
      "| Type        | Sauce  | Toppings                   | Size |\n",
      "| Margherita  | tomato | mozzarella,basil           | 28cm |\n",
      "| Margherita  | tomato | mozzarella,basil           | 32cm |\n",
      "| Pepperoni   | tomato | pepperoni,mozzarella       | 28cm |\n",
      "| Pepperoni   | tomato | pepperoni,mozzarella       | 32cm |\n",
      "| Hawaiian    | tomato | ham,pineapple,mozzarella   | 28cm |\n",
      "| Hawaiian    | tomato | ham,pineapple,mozzarella   | 32cm |\n",
      "| Veggie      | pesto  | bell peppers,olive,spinach | 28cm |\n",
      "| Veggie      | pesto  | bell peppers,olive,spinach | 32cm |\n",
      "| BBQ Chicken | BBQ    | chicken,onion,cilantro     | 28cm |\n",
      "| BBQ Chicken | BBQ    | chicken,onion,cilantro     | 32cm |\n"
     ]
    }
   ],
   "source": [
    "! gherkin-processor --input=\"examples/data/complex_example.feature\" --print"
   ]
  },
  {
   "cell_type": "markdown",
   "metadata": {},
   "source": [
    "## Save\n",
    "\n",
    "The processed scenario can be saved into a scenario 'text' format and into a JSON format."
   ]
  },
  {
   "cell_type": "markdown",
   "metadata": {},
   "source": [
    "### Save as scenario\n",
    "\n",
    "The processed scenario will be saved into a scenario 'text' format. This will save the file into \"{FILE_PATH}/{FILE_NAME}_processed.{EXTENSION}\" file location."
   ]
  },
  {
   "cell_type": "code",
   "execution_count": 3,
   "metadata": {
    "vscode": {
     "languageId": "shellscript"
    }
   },
   "outputs": [
    {
     "name": "stdout",
     "output_type": "stream",
     "text": [
      "\n",
      "Scenario: Make hotdog\n",
      "Given the sausage is cooked\n",
      "When the sausage is put into a bun\n",
      "Then the hotdog is ready to eat\n"
     ]
    }
   ],
   "source": [
    "! gherkin-processor -i examples/data/simple_example.feature -s\n",
    "\n",
    "# print the created file\n",
    "! cat examples/data/simple_example_processed.feature\n",
    "# remove the created file\n",
    "! rm examples/data/simple_example_processed.feature"
   ]
  },
  {
   "cell_type": "code",
   "execution_count": 4,
   "metadata": {
    "vscode": {
     "languageId": "shellscript"
    }
   },
   "outputs": [
    {
     "name": "stdout",
     "output_type": "stream",
     "text": [
      "@american\n",
      "@canadian\n",
      "@italian\n",
      "Scenario Template: Make pizza\n",
      "Given we knead the dough into a <Size> wide pizza disc\n",
      "\"\"\"markdown\n",
      "# Pizza Dough Recipe\n",
      "\n",
      "> Source: [Sam Merritt - The Best Pizza Dough Recipe (article)](https://sugarspunrun.com/the-best-pizza-dough-recipe/)\n",
      "\n",
      "## Ingredients\n",
      "\n",
      "- [ ] 2-2 ⅓ cups all-purpose flour OR bread flour divided (250-295g)\n",
      "- [ ] 1 packet instant yeast (2 ¼ teaspoon)\n",
      "- [ ] 1 ½ teaspoons sugar\n",
      "- [ ] ¾ teaspoon salt\n",
      "- [ ] ⅛-¼ teaspoon garlic powder and/or dried basil leaves optional\n",
      "- [ ] 2 Tablespoons olive oil + additional\n",
      "- [ ] ¾ cup warm water (175ml)\n",
      "\n",
      "## Instructions\n",
      "\n",
      "1. Combine 1 cup (125g) of flour, instant yeast, sugar, and salt in a large bowl. If desired, add garlic powder and dried basil at this point as well.\n",
      "2. Add olive oil and warm water and use a wooden spoon to stir well very well.\n",
      "3. Gradually add another 1 cup (125g) of flour. Add any additional flour as needed (I've found that sometimes I need as much as an additional ⅓ cup), stirring until the dough is forming into a cohesive, elastic ball and is beginning to pull away from the sides of the bowl (see video above recipe for visual cue). The dough will still be slightly sticky but still should be manageable with your hands.\n",
      "4. Drizzle a separate, large, clean bowl generously with olive oil and use a pastry brush to brush up the sides of the bowl.\n",
      "5. Lightly dust your hands with flour and form your pizza dough into a round ball and transfer to your olive oil-brushed bowl. Use your hands to roll the pizza dough along the inside of the bowl until it is coated in olive oil, then cover the bowl tightly with plastic wrap and place it in a warm place.\n",
      "6. Allow dough to rise for 30 minutes or until doubled in size. If you intend to bake this dough into a pizza, I also recommend preheating your oven to 425F (215C) at this point so that it will have reached temperature once your pizza is ready to bake.\n",
      "7. Once the dough has risen, use your hands to gently deflate it and transfer to a lightly floured surface and knead briefly until smooth (about 3-5 times). \n",
      "8. Use either your hands or a rolling pin to work the dough into 12\" circle.\n",
      "9. Transfer dough to a parchment paper lined pizza pan and either pinch the edges or fold them over to form a crust.\n",
      "10. Drizzle additional olive oil (about a Tablespoon) over the top of the pizza and use your pastry brush to brush the entire surface of the pizza (including the crust) with olive oil. \n",
      "11. Use a fork to poke holes all over the center of the pizza to keep the dough from bubbling up in the oven.\n",
      "\"\"\"\n",
      "Given we put the ingredients on the pizza disc in the following order:\n",
      "| Order      |\n",
      "| <Sauce>    |\n",
      "| <Toppings> |\n",
      "When we cook the pizza\n",
      "Then the <Type> pizza is ready to eat\n",
      "Scenarios:\n",
      "| Type        | Sauce  | Toppings                   | Size |\n",
      "| Margherita  | tomato | mozzarella,basil           | 28cm |\n",
      "| Margherita  | tomato | mozzarella,basil           | 32cm |\n",
      "| Pepperoni   | tomato | pepperoni,mozzarella       | 28cm |\n",
      "| Pepperoni   | tomato | pepperoni,mozzarella       | 32cm |\n",
      "| Hawaiian    | tomato | ham,pineapple,mozzarella   | 28cm |\n",
      "| Hawaiian    | tomato | ham,pineapple,mozzarella   | 32cm |\n",
      "| Veggie      | pesto  | bell peppers,olive,spinach | 28cm |\n",
      "| Veggie      | pesto  | bell peppers,olive,spinach | 32cm |\n",
      "| BBQ Chicken | BBQ    | chicken,onion,cilantro     | 28cm |\n",
      "| BBQ Chicken | BBQ    | chicken,onion,cilantro     | 32cm |\n"
     ]
    }
   ],
   "source": [
    "! gherkin-processor -i examples/data/complex_example.feature --save\n",
    "\n",
    "# print the created file\n",
    "! cat examples/data/complex_example_processed.feature\n",
    "# remove the created file\n",
    "! rm examples/data/complex_example_processed.feature"
   ]
  },
  {
   "cell_type": "markdown",
   "metadata": {},
   "source": [
    "### Save as scenario\n",
    "\n",
    "The processed scenario will be saved into a scenario 'text' format. This will save the file into \"{FILE_PATH}/{FILE_NAME}_processed.json\" file location."
   ]
  },
  {
   "cell_type": "code",
   "execution_count": 5,
   "metadata": {
    "vscode": {
     "languageId": "shellscript"
    }
   },
   "outputs": [
    {
     "name": "stdout",
     "output_type": "stream",
     "text": [
      "{\n",
      "    \"tags\": [],\n",
      "    \"name\": \"Make hotdog\",\n",
      "    \"steps\": [\n",
      "        {\n",
      "            \"step\": \"Given\",\n",
      "            \"description\": \"the sausage is cooked\"\n",
      "        },\n",
      "        {\n",
      "            \"step\": \"When\",\n",
      "            \"description\": \"the sausage is put into a bun\"\n",
      "        },\n",
      "        {\n",
      "            \"step\": \"Then\",\n",
      "            \"description\": \"the hotdog is ready to eat\"\n",
      "        }\n",
      "    ],\n",
      "    \"template_table\": null\n",
      "}\n"
     ]
    }
   ],
   "source": [
    "! gherkin-processor -i examples/data/simple_example.feature --save-as-json\n",
    "\n",
    "# print the created file\n",
    "! cat examples/data/simple_example_processed.json\n",
    "# remove the created file\n",
    "! rm examples/data/simple_example_processed.json"
   ]
  },
  {
   "cell_type": "code",
   "execution_count": 6,
   "metadata": {
    "vscode": {
     "languageId": "shellscript"
    }
   },
   "outputs": [
    {
     "name": "stdout",
     "output_type": "stream",
     "text": [
      "{\n",
      "    \"tags\": [\n",
      "        \"american\",\n",
      "        \"canadian\",\n",
      "        \"italian\"\n",
      "    ],\n",
      "    \"name\": \"Make pizza\",\n",
      "    \"steps\": [\n",
      "        {\n",
      "            \"step\": \"Given\",\n",
      "            \"description\": \"we knead the dough into a <Size> wide pizza disc\",\n",
      "            \"docstring-language\": \"markdown\",\n",
      "            \"docstring\": \"# Pizza Dough Recipe\\n\\n> Source: [Sam Merritt - The Best Pizza Dough Recipe (article)](https://sugarspunrun.com/the-best-pizza-dough-recipe/)\\n\\n## Ingredients\\n\\n- [ ] 2-2 \\u2153 cups all-purpose flour OR bread flour divided (250-295g)\\n- [ ] 1 packet instant yeast (2 \\u00bc teaspoon)\\n- [ ] 1 \\u00bd teaspoons sugar\\n- [ ] \\u00be teaspoon salt\\n- [ ] \\u215b-\\u00bc teaspoon garlic powder and/or dried basil leaves optional\\n- [ ] 2 Tablespoons olive oil + additional\\n- [ ] \\u00be cup warm water (175ml)\\n\\n## Instructions\\n\\n1. Combine 1 cup (125g) of flour, instant yeast, sugar, and salt in a large bowl. If desired, add garlic powder and dried basil at this point as well.\\n2. Add olive oil and warm water and use a wooden spoon to stir well very well.\\n3. Gradually add another 1 cup (125g) of flour. Add any additional flour as needed (I've found that sometimes I need as much as an additional \\u2153 cup), stirring until the dough is forming into a cohesive, elastic ball and is beginning to pull away from the sides of the bowl (see video above recipe for visual cue). The dough will still be slightly sticky but still should be manageable with your hands.\\n4. Drizzle a separate, large, clean bowl generously with olive oil and use a pastry brush to brush up the sides of the bowl.\\n5. Lightly dust your hands with flour and form your pizza dough into a round ball and transfer to your olive oil-brushed bowl. Use your hands to roll the pizza dough along the inside of the bowl until it is coated in olive oil, then cover the bowl tightly with plastic wrap and place it in a warm place.\\n6. Allow dough to rise for 30 minutes or until doubled in size. If you intend to bake this dough into a pizza, I also recommend preheating your oven to 425F (215C) at this point so that it will have reached temperature once your pizza is ready to bake.\\n7. Once the dough has risen, use your hands to gently deflate it and transfer to a lightly floured surface and knead briefly until smooth (about 3-5 times). \\n8. Use either your hands or a rolling pin to work the dough into 12\\\" circle.\\n9. Transfer dough to a parchment paper lined pizza pan and either pinch the edges or fold them over to form a crust.\\n10. Drizzle additional olive oil (about a Tablespoon) over the top of the pizza and use your pastry brush to brush the entire surface of the pizza (including the crust) with olive oil. \\n11. Use a fork to poke holes all over the center of the pizza to keep the dough from bubbling up in the oven.\"\n",
      "        },\n",
      "        {\n",
      "            \"step\": \"Given\",\n",
      "            \"description\": \"we put the ingredients on the pizza disc in the following order:\",\n",
      "            \"table\": {\n",
      "                \"Order\": [\n",
      "                    \"<Sauce>\",\n",
      "                    \"<Toppings>\"\n",
      "                ]\n",
      "            }\n",
      "        },\n",
      "        {\n",
      "            \"step\": \"When\",\n",
      "            \"description\": \"we cook the pizza\"\n",
      "        },\n",
      "        {\n",
      "            \"step\": \"Then\",\n",
      "            \"description\": \"the <Type> pizza is ready to eat\"\n",
      "        }\n",
      "    ],\n",
      "    \"template_table\": {\n",
      "        \"Type\": [\n",
      "            \"Margherita\",\n",
      "            \"Margherita\",\n",
      "            \"Pepperoni\",\n",
      "            \"Pepperoni\",\n",
      "            \"Hawaiian\",\n",
      "            \"Hawaiian\",\n",
      "            \"Veggie\",\n",
      "            \"Veggie\",\n",
      "            \"BBQ Chicken\",\n",
      "            \"BBQ Chicken\"\n",
      "        ],\n",
      "        \"Sauce\": [\n",
      "            \"tomato\",\n",
      "            \"tomato\",\n",
      "            \"tomato\",\n",
      "            \"tomato\",\n",
      "            \"tomato\",\n",
      "            \"tomato\",\n",
      "            \"pesto\",\n",
      "            \"pesto\",\n",
      "            \"BBQ\",\n",
      "            \"BBQ\"\n",
      "        ],\n",
      "        \"Toppings\": [\n",
      "            \"mozzarella,basil\",\n",
      "            \"mozzarella,basil\",\n",
      "            \"pepperoni,mozzarella\",\n",
      "            \"pepperoni,mozzarella\",\n",
      "            \"ham,pineapple,mozzarella\",\n",
      "            \"ham,pineapple,mozzarella\",\n",
      "            \"bell peppers,olive,spinach\",\n",
      "            \"bell peppers,olive,spinach\",\n",
      "            \"chicken,onion,cilantro\",\n",
      "            \"chicken,onion,cilantro\"\n",
      "        ],\n",
      "        \"Size\": [\n",
      "            \"28cm\",\n",
      "            \"32cm\",\n",
      "            \"28cm\",\n",
      "            \"32cm\",\n",
      "            \"28cm\",\n",
      "            \"32cm\",\n",
      "            \"28cm\",\n",
      "            \"32cm\",\n",
      "            \"28cm\",\n",
      "            \"32cm\"\n",
      "        ]\n",
      "    }\n",
      "}\n"
     ]
    }
   ],
   "source": [
    "! gherkin-processor -i examples/data/complex_example.feature --save-as-json\n",
    "\n",
    "# print the created file\n",
    "! cat examples/data/complex_example_processed.json\n",
    "# remove the created file\n",
    "! rm examples/data/complex_example_processed.json "
   ]
  },
  {
   "cell_type": "markdown",
   "metadata": {},
   "source": [
    "## Validate\n",
    "\n",
    "During the scenario processing, a scenario can be validated to ensure strict design guide."
   ]
  },
  {
   "cell_type": "code",
   "execution_count": 7,
   "metadata": {
    "vscode": {
     "languageId": "shellscript"
    }
   },
   "outputs": [
    {
     "name": "stdout",
     "output_type": "stream",
     "text": [
      "\n",
      "Scenario: Make pizza\n",
      "Given we knead the dough into a <Size> wide pizza disc\n",
      "Given we put the ingredients on the pizza disc in the following order:\n",
      "| Order      |\n",
      "| <Sauce>    |\n",
      "| <Toppings> |\n",
      "Then the <Type> pizza is ready to eat\n",
      "When we cook the pizza\n"
     ]
    }
   ],
   "source": [
    "! gherkin-processor -i examples/data/invalid_step_order_example.feature -s\n",
    "\n",
    "# print the created file\n",
    "! cat examples/data/invalid_step_order_example_processed.feature\n",
    "# remove the created file\n",
    "! rm examples/data/invalid_step_order_example_processed.feature"
   ]
  },
  {
   "cell_type": "code",
   "execution_count": 8,
   "metadata": {
    "vscode": {
     "languageId": "shellscript"
    }
   },
   "outputs": [
    {
     "name": "stdout",
     "output_type": "stream",
     "text": [
      "Prohibited keyword in 'GIVEN step table' at line [7]: \"Then the <Type> pizza is ready to eat\".\n"
     ]
    }
   ],
   "source": [
    "! gherkin-processor -i examples/data/invalid_step_order_example.feature -s --validate"
   ]
  },
  {
   "cell_type": "code",
   "execution_count": 9,
   "metadata": {
    "vscode": {
     "languageId": "shellscript"
    }
   },
   "outputs": [
    {
     "name": "stderr",
     "output_type": "stream",
     "text": [
      "cat: examples/data/invalid_step_order_example_processed.feature: No such file or directory\n"
     ]
    }
   ],
   "source": [
    "# print the created file (expected to not find the file)\n",
    "! cat examples/data/invalid_step_order_example_processed.feature"
   ]
  }
 ],
 "metadata": {
  "kernelspec": {
   "display_name": "Python 3",
   "language": "python",
   "name": "python3"
  },
  "language_info": {
   "codemirror_mode": {
    "name": "ipython",
    "version": 3
   },
   "file_extension": ".py",
   "mimetype": "text/x-python",
   "name": "python",
   "nbconvert_exporter": "python",
   "pygments_lexer": "ipython3",
   "version": "3.12.8"
  }
 },
 "nbformat": 4,
 "nbformat_minor": 2
}
