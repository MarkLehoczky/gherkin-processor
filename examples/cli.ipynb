{
 "cells": [
  {
   "cell_type": "markdown",
   "metadata": {},
   "source": [
    "# Gherkin Processor CLI Examples\n",
    "\n",
    "This notebook demonstrates how to use the `gherkin-processor` command-line tool with various options.\n",
    "\n",
    "> Prerequisite: The Gherkin Processor library is installed. (see the [Installation](../README.md#installation) guide for details)"
   ]
  },
  {
   "cell_type": "markdown",
   "metadata": {},
   "source": [
    "## Example 1: Mising required argument"
   ]
  },
  {
   "cell_type": "code",
   "execution_count": 1,
   "metadata": {
    "vscode": {
     "languageId": "shellscript"
    }
   },
   "outputs": [
    {
     "name": "stderr",
     "output_type": "stream",
     "text": [
      "usage: gherkin-processor [-h] -i INPUT [-o OUTPUT] [-p] [-s] [-j] [-y] [-v]\n",
      "gherkin-processor: error: the following arguments are required: -i/--input\n"
     ]
    }
   ],
   "source": [
    "! gherkin-processor"
   ]
  },
  {
   "cell_type": "markdown",
   "metadata": {},
   "source": [
    "## Example 2: Printing the help message"
   ]
  },
  {
   "cell_type": "code",
   "execution_count": 2,
   "metadata": {
    "vscode": {
     "languageId": "shellscript"
    }
   },
   "outputs": [
    {
     "name": "stdout",
     "output_type": "stream",
     "text": [
      "usage: gherkin-processor [-h] -i INPUT [-o OUTPUT] [-p] [-s] [-j] [-y] [-v]\n",
      "\n",
      "Process and save Ghekin files in different formats.\n",
      "\n",
      "options:\n",
      "  -h, --help                  show this help message and exit\n",
      "  -i, --input INPUT           input file path\n",
      "  -o, --output OUTPUT         output file of the savings\n",
      "  -p, --print                 write the input file Gherkin syntax to standard\n",
      "                              output\n",
      "  -s, --save, --save-gherkin  save file as Gherkin\n",
      "  -j, --json, --save-json     save file as JSON\n",
      "  -y, --yes, --force-yes      automatically press 'y' for every user input\n",
      "                              request\n",
      "  -v, --validate              validate the input file syntax\n"
     ]
    }
   ],
   "source": [
    "! gherkin-processor --help"
   ]
  },
  {
   "cell_type": "markdown",
   "metadata": {},
   "source": [
    "## Example 3: Validating input files"
   ]
  },
  {
   "cell_type": "code",
   "execution_count": 3,
   "metadata": {
    "vscode": {
     "languageId": "shellscript"
    }
   },
   "outputs": [],
   "source": [
    "! gherkin-processor --input examples/data/simple.feature --validate"
   ]
  },
  {
   "cell_type": "code",
   "execution_count": 4,
   "metadata": {
    "vscode": {
     "languageId": "shellscript"
    }
   },
   "outputs": [
    {
     "name": "stderr",
     "output_type": "stream",
     "text": [
      "Keyword 'SCENARIO' cannot be after '<BEGINNING>' at line [1]: Scenario: Login attempt with valid credentials\n"
     ]
    }
   ],
   "source": [
    "! gherkin-processor --input examples/data/invalid/missing_feature.feature --validate"
   ]
  },
  {
   "cell_type": "markdown",
   "metadata": {},
   "source": [
    "## Example 4: Printing files"
   ]
  },
  {
   "cell_type": "code",
   "execution_count": 5,
   "metadata": {
    "vscode": {
     "languageId": "shellscript"
    }
   },
   "outputs": [
    {
     "name": "stdout",
     "output_type": "stream",
     "text": [
      "Feature: User login\n",
      "\n",
      "Scenario: Login attempt with valid credentials\n",
      "Given I navigate to the login page\n",
      "When I enter the username \"user@example.com\"\n",
      "When I enter the password \"password123\"\n",
      "Then I am navigated to the homepage\n",
      "\n"
     ]
    }
   ],
   "source": [
    "! gherkin-processor --input examples/data/simple.feature --print"
   ]
  },
  {
   "cell_type": "code",
   "execution_count": 6,
   "metadata": {
    "vscode": {
     "languageId": "shellscript"
    }
   },
   "outputs": [
    {
     "name": "stdout",
     "output_type": "stream",
     "text": [
      "Scenario: Login attempt with valid credentials\n",
      "Given I navigate to the login page\n",
      "When I enter the username \"user@example.com\"\n",
      "When I enter the password \"password123\"\n",
      "Then I am navigated to the homepage\n",
      "\n"
     ]
    }
   ],
   "source": [
    "! gherkin-processor --input examples/data/invalid/missing_feature.feature --print"
   ]
  },
  {
   "cell_type": "code",
   "execution_count": 7,
   "metadata": {
    "vscode": {
     "languageId": "shellscript"
    }
   },
   "outputs": [
    {
     "name": "stdout",
     "output_type": "stream",
     "text": [
      "Feature: User Login\n",
      "Describes the process of logging into a web application for an average user.\n",
      "\n",
      "Rule: Only registered users can log in\n",
      "  Users must have a registered account to log in to the application.\n",
      "\n",
      "Background:\n",
      "    The default assumption is that the user is trying to log in with their email and password.\n",
      "Given the user accounts are registered with the following details:\n",
      "| username         | password    |\n",
      "| user@example.com | password123 |\n",
      "Given the admin accounts are registered with the following details:\n",
      "| username          | password    |\n",
      "| admin@example.com | password135 |\n",
      "\n",
      "@admin\n",
      "@user\n",
      "@web\n",
      "Scenario: Login attempt with valid credentials\n",
      "Given the user navigates to the login page\n",
      "Given the user enters the username \"user@example.com\"\n",
      "Given the user enters the password \"password123\"\n",
      "When the user clicks the \"Log In\" button\n",
      "Then the user is navigated to the homepage\n",
      "Then the following message is displayed:\n",
      "\"\"\"\n",
      "            Welcome in our application.\n",
      "            Feel free to connect with other people, companies and organisations.\n",
      "\"\"\"\n",
      "Then the following header links are available:\n",
      "| header_link |\n",
      "| About Us    |\n",
      "| Contact     |\n",
      "| Profile     |\n",
      "When the user logs out\n",
      "Then the user is navigated to the login page\n",
      "When the user enters the username \"admin@example.com\"\n",
      "When the user enters the password \"password135\"\n",
      "Then the user is navigated to the admin page\n",
      "Then the following message is displayed: \"Admin console.\"\n",
      "But the following message is not displayed:\n",
      "\"\"\"\n",
      "            Welcome in our application.\n",
      "            Feel free to connect with other people, companies and organisations.\n",
      "\"\"\"\n",
      "\n",
      "Scenario Outline: Login attempt with invalid credentials\n",
      "        This scenario does not include all failure cases, only selected ones.\n",
      "Given the user navigates to the login page\n",
      "Given the user enters the username \"<username>\"\n",
      "Given the user enters the password \"<password>\"\n",
      "When the user clicks the \"Log In\" button\n",
      "Then the following error message is displayed: \"<error_message>\"\n",
      "| username            | password | error_message                      |\n",
      "| invalid@example.com | valid    | Incorrect username or password     |\n",
      "| user@example.com    | invalid  | Incorrect username or password     |\n",
      "|                     | valid    | Username is required               |\n",
      "| user@example.com    |          | Password is required               |\n",
      "|                     |          | Username and password are required |\n",
      "\n"
     ]
    }
   ],
   "source": [
    "! gherkin-processor --input examples/data/complex.feature --print"
   ]
  },
  {
   "cell_type": "markdown",
   "metadata": {},
   "source": [
    "## Example 5: Saving files"
   ]
  },
  {
   "cell_type": "code",
   "execution_count": 8,
   "metadata": {
    "vscode": {
     "languageId": "shellscript"
    }
   },
   "outputs": [],
   "source": [
    "! gherkin-processor --input examples/data/simple.feature --output=\"<DIR>/output/<NAME>_processed.<EXT>\" --save-gherkin --save-json"
   ]
  },
  {
   "cell_type": "code",
   "execution_count": 9,
   "metadata": {
    "vscode": {
     "languageId": "shellscript"
    }
   },
   "outputs": [
    {
     "name": "stdout",
     "output_type": "stream",
     "text": [
      "Feature: User login\n",
      "\n",
      "Scenario: Login attempt with valid credentials\n",
      "Given I navigate to the login page\n",
      "When I enter the username \"user@example.com\"\n",
      "When I enter the password \"password123\"\n",
      "Then I am navigated to the homepage\n"
     ]
    }
   ],
   "source": [
    "! more \"examples/data/output/simple_processed.feature\""
   ]
  },
  {
   "cell_type": "code",
   "execution_count": 10,
   "metadata": {
    "vscode": {
     "languageId": "shellscript"
    }
   },
   "outputs": [
    {
     "name": "stdout",
     "output_type": "stream",
     "text": [
      "{\n",
      "    \"file\": \"examples/data/simple.feature\",\n",
      "    \"feature\": {\n",
      "        \"name\": \"User login\",\n",
      "        \"description\": null\n",
      "    },\n",
      "    \"rule\": {\n",
      "        \"name\": null,\n",
      "        \"description\": null\n",
      "    },\n",
      "    \"background\": {\n",
      "        \"description\": null,\n",
      "        \"steps\": null\n",
      "    },\n",
      "    \"scenarios\": [\n",
      "        {\n",
      "            \"tags\": null,\n",
      "            \"name\": \"Login attempt with valid credentials\",\n",
      "            \"description\": null,\n",
      "            \"steps\": [\n",
      "                {\n",
      "                    \"type\": \"Given\",\n",
      "                    \"text\": \"I navigate to the login page\",\n",
      "                    \"table\": null,\n",
      "                    \"doc_string\": null\n",
      "                },\n",
      "                {\n",
      "                    \"type\": \"When\",\n",
      "                    \"text\": \"I enter the username \\\"user@example.com\\\"\",\n",
      "                    \"table\": null,\n",
      "                    \"doc_string\": null\n",
      "                },\n",
      "                {\n",
      "                    \"type\": \"When\",\n",
      "                    \"text\": \"I enter the password \\\"password123\\\"\",\n",
      "                    \"table\": null,\n",
      "                    \"doc_string\": null\n",
      "                },\n",
      "                {\n",
      "                    \"type\": \"Then\",\n",
      "                    \"text\": \"I am navigated to the homepage\",\n",
      "                    \"table\": null,\n",
      "                    \"doc_string\": null\n",
      "                }\n",
      "            ],\n",
      "            \"outline\": null\n",
      "        }\n",
      "    ]\n",
      "}\n"
     ]
    }
   ],
   "source": [
    "! more \"examples/data/output/simple_processed.json\""
   ]
  },
  {
   "cell_type": "markdown",
   "metadata": {},
   "source": [
    "## Example 6: Printing and saving validated file into an existing file"
   ]
  },
  {
   "cell_type": "code",
   "execution_count": 11,
   "metadata": {
    "vscode": {
     "languageId": "shellscript"
    }
   },
   "outputs": [
    {
     "name": "stdout",
     "output_type": "stream",
     "text": [
      "Feature: User login\n",
      "\n",
      "Scenario: Login attempt with valid credentials\n",
      "Given I navigate to the login page\n",
      "When I enter the username \"user@example.com\"\n",
      "When I enter the password \"password123\"\n",
      "Then I am navigated to the homepage\n",
      "\n"
     ]
    }
   ],
   "source": [
    "! gherkin-processor --input=examples/data/simple.feature --output \"<DIR>/output/<NAME>_processed.<EXT>\" --print --save-gherkin --yes --validate"
   ]
  }
 ],
 "metadata": {
  "kernelspec": {
   "display_name": "Python 3",
   "language": "python",
   "name": "python3"
  },
  "language_info": {
   "codemirror_mode": {
    "name": "ipython",
    "version": 3
   },
   "file_extension": ".py",
   "mimetype": "text/x-python",
   "name": "python",
   "nbconvert_exporter": "python",
   "pygments_lexer": "ipython3",
   "version": "3.12.3"
  }
 },
 "nbformat": 4,
 "nbformat_minor": 2
}
