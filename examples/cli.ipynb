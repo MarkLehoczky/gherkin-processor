{
 "cells": [
  {
   "cell_type": "markdown",
   "metadata": {},
   "source": [
    "# Command Line Interface (CLI) Examples\n",
    "\n",
    "This notebook demonstrates how to use the **Gherkin Processor** via the *command line interface* (*CLI*).\n",
    "\n",
    "> Note: This notebook assumes that the **Gherkin Processor** package is already installed. See the *[Installation](../README.md/#installation)* guide for details.\n",
    "> \n",
    "> The *INPUT* argument must be defined at every script, except when the *help* option is selected."
   ]
  },
  {
   "cell_type": "markdown",
   "metadata": {},
   "source": [
    "## Print\n",
    "\n",
    "The processed Gherkin scenario can be printed to the standard output. This will print the text version of the processed scenario."
   ]
  },
  {
   "cell_type": "code",
   "execution_count": 1,
   "metadata": {
    "vscode": {
     "languageId": "shellscript"
    }
   },
   "outputs": [
    {
     "name": "stdout",
     "output_type": "stream",
     "text": [
      "@food\n",
      "Scenario: Make hotdog\n",
      "Given the sausage is cooked\n",
      "When the sausage is put into a bun\n",
      "When the following toppings are added:\n",
      "| Topping |\n",
      "| ketchup |\n",
      "| mustard |\n",
      "| relish  |\n",
      "Then the hotdog is ready to eat\n"
     ]
    }
   ],
   "source": [
    "! gherkin-processor -i examples/data/valid_example.feature -p"
   ]
  },
  {
   "cell_type": "code",
   "execution_count": 2,
   "metadata": {
    "vscode": {
     "languageId": "shellscript"
    }
   },
   "outputs": [
    {
     "name": "stdout",
     "output_type": "stream",
     "text": [
      "@food\n",
      "Scenario: Make hotdog\n",
      "Given the sausage is cooked\n",
      "When the sausage is put into a bun\n",
      "When the following toppings are added:\n",
      "| Topping |\n",
      "| ketchup |\n",
      "| mustard |\n",
      "| relish  |\n",
      "Then the hotdog is ready to eat\n"
     ]
    }
   ],
   "source": [
    "! gherkin-processor --input=\"examples/data/valid_example.feature\" --print"
   ]
  },
  {
   "cell_type": "markdown",
   "metadata": {},
   "source": [
    "## Save\n",
    "\n",
    "The processed scenario can be saved into a scenario 'text' format and into a JSON format."
   ]
  },
  {
   "cell_type": "markdown",
   "metadata": {},
   "source": [
    "### Save as scenario\n",
    "\n",
    "The processed scenario will be saved into a scenario 'text' format. This will save the file into \"{FILE_PATH}/{FILE_NAME}_processed.{EXTENSION}\" file location."
   ]
  },
  {
   "cell_type": "code",
   "execution_count": 3,
   "metadata": {
    "vscode": {
     "languageId": "shellscript"
    }
   },
   "outputs": [
    {
     "name": "stdout",
     "output_type": "stream",
     "text": [
      "@food\n",
      "Scenario: Make hotdog\n",
      "Given the sausage is cooked\n",
      "When the sausage is put into a bun\n",
      "When the following toppings are added:\n",
      "| Topping |\n",
      "| ketchup |\n",
      "| mustard |\n",
      "| relish  |\n",
      "Then the hotdog is ready to eat\n"
     ]
    }
   ],
   "source": [
    "! gherkin-processor -i examples/data/valid_example.feature -s\n",
    "\n",
    "# print the created file\n",
    "! cat examples/data/valid_example_processed.feature\n",
    "# remove the created file\n",
    "! rm examples/data/valid_example_processed.feature"
   ]
  },
  {
   "cell_type": "markdown",
   "metadata": {},
   "source": [
    "### Save as Json\n",
    "\n",
    "The processed scenario will be saved into a scenario 'Json' format. This will save the file into \"{FILE_PATH}/{FILE_NAME}_processed.json\" file location."
   ]
  },
  {
   "cell_type": "code",
   "execution_count": 4,
   "metadata": {
    "vscode": {
     "languageId": "shellscript"
    }
   },
   "outputs": [
    {
     "name": "stdout",
     "output_type": "stream",
     "text": [
      "{\n",
      "    \"tags\": [\n",
      "        \"food\"\n",
      "    ],\n",
      "    \"name\": \"Make hotdog\",\n",
      "    \"steps\": [\n",
      "        {\n",
      "            \"step\": \"Given\",\n",
      "            \"description\": \"the sausage is cooked\"\n",
      "        },\n",
      "        {\n",
      "            \"step\": \"When\",\n",
      "            \"description\": \"the sausage is put into a bun\"\n",
      "        },\n",
      "        {\n",
      "            \"step\": \"When\",\n",
      "            \"description\": \"the following toppings are added:\",\n",
      "            \"table\": {\n",
      "                \"Topping\": [\n",
      "                    \"ketchup\",\n",
      "                    \"mustard\",\n",
      "                    \"relish\"\n",
      "                ]\n",
      "            }\n",
      "        },\n",
      "        {\n",
      "            \"step\": \"Then\",\n",
      "            \"description\": \"the hotdog is ready to eat\"\n",
      "        }\n",
      "    ],\n",
      "    \"template_table\": null\n",
      "}\n"
     ]
    }
   ],
   "source": [
    "! gherkin-processor -i examples/data/valid_example.feature --save-as-json\n",
    "\n",
    "# print the created file\n",
    "! cat examples/data/valid_example_processed.json\n",
    "# remove the created file\n",
    "! rm examples/data/valid_example_processed.json"
   ]
  },
  {
   "cell_type": "markdown",
   "metadata": {},
   "source": [
    "## Validate\n",
    "\n",
    "During the scenario processing, a scenario can be validated to ensure strict design guide."
   ]
  },
  {
   "cell_type": "code",
   "execution_count": 5,
   "metadata": {
    "vscode": {
     "languageId": "shellscript"
    }
   },
   "outputs": [
    {
     "name": "stdout",
     "output_type": "stream",
     "text": [
      "@food\n",
      "Scenario: Make hotdog\n",
      "Given the sausage is cooked\n",
      "Then the hotdog is ready to eat\n",
      "When the sausage is put into a bun\n",
      "When the following toppings are added:\n",
      "| Topping |\n",
      "| ketchup |\n",
      "| mustard |\n",
      "| relish  |\n"
     ]
    }
   ],
   "source": [
    "! gherkin-processor -i examples/data/invalid_example.feature -s\n",
    "\n",
    "# print the created file\n",
    "! cat examples/data/invalid_example_processed.feature\n",
    "# remove the created file\n",
    "! rm examples/data/invalid_example_processed.feature"
   ]
  },
  {
   "cell_type": "code",
   "execution_count": 6,
   "metadata": {
    "vscode": {
     "languageId": "shellscript"
    }
   },
   "outputs": [
    {
     "name": "stderr",
     "output_type": "stream",
     "text": [
      "Prohibited keyword in 'GIVEN step' at line [4]: \"Then the hotdog is ready to eat\".\n"
     ]
    }
   ],
   "source": [
    "! gherkin-processor -i examples/data/invalid_example.feature -s --validate"
   ]
  },
  {
   "cell_type": "code",
   "execution_count": 7,
   "metadata": {
    "vscode": {
     "languageId": "shellscript"
    }
   },
   "outputs": [
    {
     "name": "stderr",
     "output_type": "stream",
     "text": [
      "cat: examples/data/invalid_example_processed.feature: No such file or directory\n"
     ]
    }
   ],
   "source": [
    "# print the created file (expected to not find the file)\n",
    "! cat examples/data/invalid_example_processed.feature"
   ]
  }
 ],
 "metadata": {
  "kernelspec": {
   "display_name": "Python 3",
   "language": "python",
   "name": "python3"
  },
  "language_info": {
   "codemirror_mode": {
    "name": "ipython",
    "version": 3
   },
   "file_extension": ".py",
   "mimetype": "text/x-python",
   "name": "python",
   "nbconvert_exporter": "python",
   "pygments_lexer": "ipython3",
   "version": "3.12.8"
  }
 },
 "nbformat": 4,
 "nbformat_minor": 2
}
