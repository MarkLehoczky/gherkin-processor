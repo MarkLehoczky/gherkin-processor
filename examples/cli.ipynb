{
 "cells": [
  {
   "cell_type": "markdown",
   "metadata": {},
   "source": [
    "# Gherkin Processor CLI Examples\n",
    "This notebook demonstrates the usage of the Gherkin Processor CLI commands."
   ]
  },
  {
   "cell_type": "markdown",
   "metadata": {},
   "source": [
    "## Example 1: Print Gherkin Syntax\n",
    "Print the Gherkin syntax of an input file."
   ]
  },
  {
   "cell_type": "code",
   "execution_count": 1,
   "metadata": {
    "vscode": {
     "languageId": "powershell"
    }
   },
   "outputs": [
    {
     "name": "stdout",
     "output_type": "stream",
     "text": [
      "Feature: User login\n",
      "\n",
      "\n",
      "Scenario: Login attempt with valid credentials\n",
      "Given I navigate to the login page\n",
      "When I enter the username \"user@example.com\"\n",
      "When I enter the password \"password123\"\n",
      "Then I am navigated to the homepage\n"
     ]
    }
   ],
   "source": [
    "!gherkin-processor --input examples/data/simple.feature --print"
   ]
  },
  {
   "cell_type": "markdown",
   "metadata": {},
   "source": [
    "## Example 2: Save as Gherkin\n",
    "Save the input file as a Gherkin file."
   ]
  },
  {
   "cell_type": "code",
   "execution_count": 2,
   "metadata": {
    "vscode": {
     "languageId": "powershell"
    }
   },
   "outputs": [],
   "source": [
    "!gherkin-processor --input examples/data/simple.feature --save --output examples/data/output/example.feature --yes"
   ]
  },
  {
   "cell_type": "markdown",
   "metadata": {},
   "source": [
    "## Example 3: Save as JSON\n",
    "Save the input file as a JSON file."
   ]
  },
  {
   "cell_type": "code",
   "execution_count": 3,
   "metadata": {
    "vscode": {
     "languageId": "powershell"
    }
   },
   "outputs": [],
   "source": [
    "!gherkin-processor --input examples/data/simple.feature --json --output examples/data/output/example.json --yes"
   ]
  },
  {
   "cell_type": "markdown",
   "metadata": {},
   "source": [
    "## Example 4: Validate Syntax\n",
    "Validate the syntax of the input file."
   ]
  },
  {
   "cell_type": "code",
   "execution_count": 4,
   "metadata": {
    "vscode": {
     "languageId": "powershell"
    }
   },
   "outputs": [],
   "source": [
    "!gherkin-processor --input examples/data/simple.feature --validate"
   ]
  }
 ],
 "metadata": {
  "kernelspec": {
   "display_name": "Python 3",
   "language": "python",
   "name": "python3"
  },
  "language_info": {
   "codemirror_mode": {
    "name": "ipython",
    "version": 3
   },
   "file_extension": ".py",
   "mimetype": "text/x-python",
   "name": "python",
   "nbconvert_exporter": "python",
   "pygments_lexer": "ipython3",
   "version": "3.13.2"
  }
 },
 "nbformat": 4,
 "nbformat_minor": 2
}
