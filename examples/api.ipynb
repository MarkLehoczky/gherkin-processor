{
 "cells": [
  {
   "cell_type": "markdown",
   "metadata": {},
   "source": [
    "# Application Programming Interface (API) Examples\n",
    "\n",
    "This notebook demonstrates how to use the **Gherkin Processor** via the *application programming interface* (*API*).\n",
    "\n",
    "> Note: This notebook assumes that the **Gherkin Processor** package is already installed. See the *[Installation](../README.md/#installation)* guide for details."
   ]
  },
  {
   "cell_type": "markdown",
   "metadata": {},
   "source": [
    "## Prerequisites\n",
    "\n",
    "The modules are imported. (For the Notebook, the example scenarios are also imported.)"
   ]
  },
  {
   "cell_type": "code",
   "execution_count": 1,
   "metadata": {},
   "outputs": [],
   "source": [
    "from gherkin_processor.utils import scenario\n",
    "\n",
    "valid_text = open(\"examples/data/valid_example.feature\", \"r\").read()\n",
    "invalid_text = open(\"examples/data/invalid_example.feature\", \"r\").read()"
   ]
  },
  {
   "cell_type": "markdown",
   "metadata": {},
   "source": [
    "## Validation\n",
    "\n",
    "The Gherkin scenarios can be validated in different ways. This includes simple `boolean` determination, issue description and optional description."
   ]
  },
  {
   "cell_type": "markdown",
   "metadata": {},
   "source": [
    "### Validation via `boolean`\n",
    "\n",
    "For this, the `scenario.is_valid(str): bool` function can be used in the utilities."
   ]
  },
  {
   "cell_type": "code",
   "execution_count": 2,
   "metadata": {},
   "outputs": [
    {
     "name": "stdout",
     "output_type": "stream",
     "text": [
      "<class 'bool'>: True\n",
      "<class 'bool'>: False\n"
     ]
    }
   ],
   "source": [
    "print(f\"{type(scenario.is_valid(valid_text))}: {scenario.is_valid(valid_text)}\")\n",
    "print(f\"{type(scenario.is_valid(invalid_text))}: {scenario.is_valid(invalid_text)}\")"
   ]
  },
  {
   "cell_type": "markdown",
   "metadata": {},
   "source": [
    "### Validation via issue description\n",
    "\n",
    "For this, the `scenario.issue_description(str): str` function can be used in the utilities. It will always return a string, if the scenario is valid, then the string is empty."
   ]
  },
  {
   "cell_type": "code",
   "execution_count": 3,
   "metadata": {},
   "outputs": [
    {
     "name": "stdout",
     "output_type": "stream",
     "text": [
      "<class 'str'>: \n",
      "<class 'str'>: Prohibited keyword in 'GIVEN step' at line [4]: \"Then the hotdog is ready to eat\".\n"
     ]
    }
   ],
   "source": [
    "print(f\"{type(scenario.issue_description(valid_text))}: {scenario.issue_description(valid_text)}\")\n",
    "print(f\"{type(scenario.issue_description(invalid_text))}: {scenario.issue_description(invalid_text)}\")"
   ]
  },
  {
   "cell_type": "markdown",
   "metadata": {},
   "source": [
    "### Validation via optional issue description\n",
    "\n",
    "For this, the `scenario.validate(str): str | None` function can be used in the utilities. It only return a string, if the scenario is invalid, otherwise it returns `None`."
   ]
  },
  {
   "cell_type": "code",
   "execution_count": 4,
   "metadata": {},
   "outputs": [
    {
     "name": "stdout",
     "output_type": "stream",
     "text": [
      "<class 'NoneType'>: None\n",
      "<class 'str'>: Prohibited keyword in 'GIVEN step' at line [4]: \"Then the hotdog is ready to eat\".\n"
     ]
    }
   ],
   "source": [
    "print(f\"{type(scenario.validate(valid_text))}: {scenario.validate(valid_text)}\")\n",
    "print(f\"{type(scenario.validate(invalid_text))}: {scenario.validate(invalid_text)}\")"
   ]
  },
  {
   "cell_type": "markdown",
   "metadata": {},
   "source": [
    "## Processing\n",
    "\n",
    "Gherkin scenarios can be processed from a single text (`str`) into a `Scenario` dataclass. For the processing, both the utility processor and the dataclass constructor can be used."
   ]
  },
  {
   "cell_type": "markdown",
   "metadata": {},
   "source": [
    "### Utility processor\n",
    "\n",
    "Uses the `scenario.process(str, bool=True)` function. The first parameter is the scenario as a text and the second determines whether to validate the scenario syntax."
   ]
  },
  {
   "cell_type": "markdown",
   "metadata": {},
   "source": [
    "#### Validation\n",
    "\n",
    "When validation is set, the processor will raise an error with the issue description as the message. The processor can also validate specific criteria, such as incorrect parameter type, empty scenario text, etc."
   ]
  },
  {
   "cell_type": "code",
   "execution_count": 5,
   "metadata": {},
   "outputs": [
    {
     "name": "stdout",
     "output_type": "stream",
     "text": [
      "Parameter 'scenario_text' is not string type.\n",
      "Scenario is empty.\n",
      "Scenario only contains empty lines or comments.\n",
      "Prohibited keyword in 'GIVEN step' at line [4]: \"Then the hotdog is ready to eat\".\n"
     ]
    }
   ],
   "source": [
    "try:\n",
    "    scenario.process(None, True)\n",
    "except TypeError as e:\n",
    "    print(e)\n",
    "try:\n",
    "    scenario.process(\"\")\n",
    "except ValueError as e:\n",
    "    print(e)\n",
    "try:\n",
    "    scenario.process(\"# Only comment\")\n",
    "except ValueError as e:\n",
    "    print(e)\n",
    "try:\n",
    "    scenario.process(invalid_text)\n",
    "except ValueError as e:\n",
    "    print(e)"
   ]
  },
  {
   "cell_type": "markdown",
   "metadata": {},
   "source": [
    "#### No validation\n",
    "\n",
    "When validation is not set, the processor will try to process the scenario as much as possible. It does not catch any internal error raise."
   ]
  },
  {
   "cell_type": "code",
   "execution_count": 6,
   "metadata": {},
   "outputs": [],
   "source": [
    "empty_scenario = scenario.process(\"\", False)\n",
    "comment_only_scenario = scenario.process(\"# Only comment\", False)\n",
    "invalid_scenario = scenario.process(invalid_text, False)\n",
    "pass"
   ]
  },
  {
   "cell_type": "markdown",
   "metadata": {},
   "source": [
    "In this case the `Scenario` dataclass instances may be malformed. (See [Data structure](data.ipynb) for details about the dataclass structure.)"
   ]
  },
  {
   "cell_type": "code",
   "execution_count": 7,
   "metadata": {},
   "outputs": [
    {
     "name": "stdout",
     "output_type": "stream",
     "text": [
      "\n",
      "Scenario: \n",
      "\n"
     ]
    }
   ],
   "source": [
    "print(str(empty_scenario))"
   ]
  },
  {
   "cell_type": "code",
   "execution_count": 8,
   "metadata": {},
   "outputs": [
    {
     "name": "stdout",
     "output_type": "stream",
     "text": [
      "\n",
      "Scenario: \n",
      "\n"
     ]
    }
   ],
   "source": [
    "print(str(comment_only_scenario))"
   ]
  },
  {
   "cell_type": "code",
   "execution_count": 9,
   "metadata": {},
   "outputs": [
    {
     "name": "stdout",
     "output_type": "stream",
     "text": [
      "@food\n",
      "Scenario: Make hotdog\n",
      "Given the sausage is cooked\n",
      "Then the hotdog is ready to eat\n",
      "When the sausage is put into a bun\n",
      "When the following toppings are added:\n",
      "| Topping |\n",
      "| ketchup |\n",
      "| mustard |\n",
      "| relish  |\n"
     ]
    }
   ],
   "source": [
    "print(str(invalid_scenario))"
   ]
  },
  {
   "cell_type": "markdown",
   "metadata": {},
   "source": [
    "## Input & Output\n",
    "\n",
    "The utilities support basic input and output operations."
   ]
  },
  {
   "cell_type": "markdown",
   "metadata": {},
   "source": [
    "### Input\n",
    "\n",
    "A file location can be passed as a string and the `scenario.load(str, bool=True): Scenario` function will attempt to load and process the file. The second parameter determines the validation of the scenario."
   ]
  },
  {
   "cell_type": "code",
   "execution_count": 10,
   "metadata": {},
   "outputs": [
    {
     "name": "stdout",
     "output_type": "stream",
     "text": [
      "<class 'gherkin_processor.scenario.Scenario'>\n",
      "@food\n",
      "Scenario: Make hotdog\n",
      "Given the sausage is cooked\n",
      "When the sausage is put into a bun\n",
      "When the following toppings are added:\n",
      "| Topping |\n",
      "| ketchup |\n",
      "| mustard |\n",
      "| relish  |\n",
      "Then the hotdog is ready to eat\n"
     ]
    }
   ],
   "source": [
    "loaded_example = scenario.load(\"examples/data/valid_example.feature\")\n",
    "print(f\"{type(loaded_example)}\\n{loaded_example}\")"
   ]
  },
  {
   "cell_type": "markdown",
   "metadata": {},
   "source": [
    "### Output\n",
    "\n",
    "The utilities can save a scenario in a text format or in a JSON format."
   ]
  },
  {
   "cell_type": "markdown",
   "metadata": {},
   "source": [
    "#### Text output\n",
    "\n",
    "This will create a valid syntax Gherkin scenario into a given file."
   ]
  },
  {
   "cell_type": "code",
   "execution_count": 11,
   "metadata": {},
   "outputs": [],
   "source": [
    "scenario.save(scenario.process(valid_text), \"examples/data/saved_example.feature\")"
   ]
  },
  {
   "cell_type": "code",
   "execution_count": 12,
   "metadata": {
    "vscode": {
     "languageId": "shellscript"
    }
   },
   "outputs": [
    {
     "name": "stdout",
     "output_type": "stream",
     "text": [
      "@food\n",
      "Scenario: Make hotdog\n",
      "Given the sausage is cooked\n",
      "When the sausage is put into a bun\n",
      "When the following toppings are added:\n",
      "| Topping |\n",
      "| ketchup |\n",
      "| mustard |\n",
      "| relish  |\n",
      "Then the hotdog is ready to eat\n"
     ]
    }
   ],
   "source": [
    "# print the created file\n",
    "! cat examples/data/saved_example.feature\n",
    "# remove the created file\n",
    "! rm examples/data/saved_example.feature"
   ]
  },
  {
   "cell_type": "markdown",
   "metadata": {},
   "source": [
    "#### JSON output\n",
    "\n",
    "This will create a json format extraction of the Gherkin scenario into a given file."
   ]
  },
  {
   "cell_type": "code",
   "execution_count": 13,
   "metadata": {},
   "outputs": [],
   "source": [
    "scenario.save_as_json(scenario.process(valid_text), \"examples/data/saved_example.json\")"
   ]
  },
  {
   "cell_type": "code",
   "execution_count": 14,
   "metadata": {
    "vscode": {
     "languageId": "shellscript"
    }
   },
   "outputs": [
    {
     "name": "stdout",
     "output_type": "stream",
     "text": [
      "{\n",
      "    \"tags\": [\n",
      "        \"food\"\n",
      "    ],\n",
      "    \"name\": \"Make hotdog\",\n",
      "    \"steps\": [\n",
      "        {\n",
      "            \"step\": \"Given\",\n",
      "            \"description\": \"the sausage is cooked\"\n",
      "        },\n",
      "        {\n",
      "            \"step\": \"When\",\n",
      "            \"description\": \"the sausage is put into a bun\"\n",
      "        },\n",
      "        {\n",
      "            \"step\": \"When\",\n",
      "            \"description\": \"the following toppings are added:\",\n",
      "            \"table\": {\n",
      "                \"Topping\": [\n",
      "                    \"ketchup\",\n",
      "                    \"mustard\",\n",
      "                    \"relish\"\n",
      "                ]\n",
      "            }\n",
      "        },\n",
      "        {\n",
      "            \"step\": \"Then\",\n",
      "            \"description\": \"the hotdog is ready to eat\"\n",
      "        }\n",
      "    ],\n",
      "    \"template_table\": null\n",
      "}\n"
     ]
    }
   ],
   "source": [
    "# print the created file\n",
    "! cat examples/data/saved_example.json\n",
    "# remove the created file\n",
    "! rm examples/data/saved_example.json"
   ]
  }
 ],
 "metadata": {
  "kernelspec": {
   "display_name": "Python 3",
   "language": "python",
   "name": "python3"
  },
  "language_info": {
   "codemirror_mode": {
    "name": "ipython",
    "version": 3
   },
   "file_extension": ".py",
   "mimetype": "text/x-python",
   "name": "python",
   "nbconvert_exporter": "python",
   "pygments_lexer": "ipython3",
   "version": "3.12.8"
  }
 },
 "nbformat": 4,
 "nbformat_minor": 2
}
