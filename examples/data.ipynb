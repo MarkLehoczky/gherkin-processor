{
 "cells": [
  {
   "cell_type": "markdown",
   "metadata": {},
   "source": [
    "# Data Structure Examples\n",
    "\n",
    "This notebook demonstrates how to use the **Gherkin Processor** created dataclass instances.\n",
    "\n",
    "> Note: This notebook assumes that the **Gherkin Processor** package is already installed. See the *[Installation](../README.md/#installation)* guide for details."
   ]
  },
  {
   "cell_type": "markdown",
   "metadata": {},
   "source": [
    "## Prerequisites\n",
    "\n",
    "The modules are imported and an example scenario is loaded."
   ]
  },
  {
   "cell_type": "code",
   "execution_count": 1,
   "metadata": {},
   "outputs": [
    {
     "name": "stdout",
     "output_type": "stream",
     "text": [
      "@american\n",
      "@canadian\n",
      "@italian\n",
      "Scenario Template: Make pizza\n",
      "Given we knead the dough into a <Size> wide pizza disc\n",
      "\"\"\"markdown\n",
      "# Pizza Dough Recipe\n",
      "\n",
      "> Source: [Sam Merritt - The Best Pizza Dough Recipe (article)](https://sugarspunrun.com/the-best-pizza-dough-recipe/)\n",
      "\n",
      "## Ingredients\n",
      "\n",
      "- [ ] 2-2 ⅓ cups all-purpose flour OR bread flour divided (250-295g)\n",
      "- [ ] 1 packet instant yeast (2 ¼ teaspoon)\n",
      "- [ ] 1 ½ teaspoons sugar\n",
      "- [ ] ¾ teaspoon salt\n",
      "- [ ] ⅛-¼ teaspoon garlic powder and/or dried basil leaves optional\n",
      "- [ ] 2 Tablespoons olive oil + additional\n",
      "- [ ] ¾ cup warm water (175ml)\n",
      "\n",
      "## Instructions\n",
      "\n",
      "1. Combine 1 cup (125g) of flour, instant yeast, sugar, and salt in a large bowl. If desired, add garlic powder and dried basil at this point as well.\n",
      "2. Add olive oil and warm water and use a wooden spoon to stir well very well.\n",
      "3. Gradually add another 1 cup (125g) of flour. Add any additional flour as needed (I've found that sometimes I need as much as an additional ⅓ cup), stirring until the dough is forming into a cohesive, elastic ball and is beginning to pull away from the sides of the bowl (see video above recipe for visual cue). The dough will still be slightly sticky but still should be manageable with your hands.\n",
      "4. Drizzle a separate, large, clean bowl generously with olive oil and use a pastry brush to brush up the sides of the bowl.\n",
      "5. Lightly dust your hands with flour and form your pizza dough into a round ball and transfer to your olive oil-brushed bowl. Use your hands to roll the pizza dough along the inside of the bowl until it is coated in olive oil, then cover the bowl tightly with plastic wrap and place it in a warm place.\n",
      "6. Allow dough to rise for 30 minutes or until doubled in size. If you intend to bake this dough into a pizza, I also recommend preheating your oven to 425F (215C) at this point so that it will have reached temperature once your pizza is ready to bake.\n",
      "7. Once the dough has risen, use your hands to gently deflate it and transfer to a lightly floured surface and knead briefly until smooth (about 3-5 times). \n",
      "8. Use either your hands or a rolling pin to work the dough into 12\" circle.\n",
      "9. Transfer dough to a parchment paper lined pizza pan and either pinch the edges or fold them over to form a crust.\n",
      "10. Drizzle additional olive oil (about a Tablespoon) over the top of the pizza and use your pastry brush to brush the entire surface of the pizza (including the crust) with olive oil. \n",
      "11. Use a fork to poke holes all over the center of the pizza to keep the dough from bubbling up in the oven.\n",
      "\"\"\"\n",
      "Given we put the ingredients on the pizza disc in the following order:\n",
      "| Order      |\n",
      "| <Sauce>    |\n",
      "| <Toppings> |\n",
      "When we cook the pizza\n",
      "Then the <Type> pizza is ready to eat\n",
      "Scenarios:\n",
      "| Type        | Sauce  | Toppings                   | Size |\n",
      "| Margherita  | tomato | mozzarella,basil           | 28cm |\n",
      "| Margherita  | tomato | mozzarella,basil           | 32cm |\n",
      "| Pepperoni   | tomato | pepperoni,mozzarella       | 28cm |\n",
      "| Pepperoni   | tomato | pepperoni,mozzarella       | 32cm |\n",
      "| Hawaiian    | tomato | ham,pineapple,mozzarella   | 28cm |\n",
      "| Hawaiian    | tomato | ham,pineapple,mozzarella   | 32cm |\n",
      "| Veggie      | pesto  | bell peppers,olive,spinach | 28cm |\n",
      "| Veggie      | pesto  | bell peppers,olive,spinach | 32cm |\n",
      "| BBQ Chicken | BBQ    | chicken,onion,cilantro     | 28cm |\n",
      "| BBQ Chicken | BBQ    | chicken,onion,cilantro     | 32cm |\n"
     ]
    }
   ],
   "source": [
    "from gherkin_processor.utils.scenario import load\n",
    "from gherkin_processor.scenario import Scenario, build_table\n",
    "\n",
    "scenario: Scenario = load(\"examples/data/complex_example.feature\")\n",
    "print(str(scenario))"
   ]
  },
  {
   "cell_type": "markdown",
   "metadata": {},
   "source": [
    "## Summary\n",
    "\n",
    "The `Scenario` dataclass has the following attributes:\n",
    "\n",
    "- tags (`List[str]`): Tags of the scenario. Defaults to `[]`.\n",
    "- name (`str`): Name / description of the scenario. Defaults to `\"\"`.\n",
    "- steps (`List[Dict[str, Dict[str, List[str]] | str]]`): Steps of the scenario. Defaults to `[]`.\n",
    "- template_table (`Optional[Dict[str, List[str]]]`): Template table values of the scenario. Defaults to `None`.\n"
   ]
  },
  {
   "cell_type": "markdown",
   "metadata": {},
   "source": [
    "## tags\n",
    "\n",
    "Stores the tags of a scenario in a list format. The tag sign ('@') is removed."
   ]
  },
  {
   "cell_type": "code",
   "execution_count": 2,
   "metadata": {},
   "outputs": [
    {
     "data": {
      "text/plain": [
       "['american', 'canadian', 'italian']"
      ]
     },
     "execution_count": 2,
     "metadata": {},
     "output_type": "execute_result"
    }
   ],
   "source": [
    "scenario.tags"
   ]
  },
  {
   "cell_type": "markdown",
   "metadata": {},
   "source": [
    "## name\n",
    "\n",
    "Stores the name of a scenario. The scenario type is removed."
   ]
  },
  {
   "cell_type": "code",
   "execution_count": 3,
   "metadata": {},
   "outputs": [
    {
     "data": {
      "text/plain": [
       "'Make pizza'"
      ]
     },
     "execution_count": 3,
     "metadata": {},
     "output_type": "execute_result"
    }
   ],
   "source": [
    "scenario.name"
   ]
  },
  {
   "cell_type": "markdown",
   "metadata": {},
   "source": [
    "## steps\n",
    "\n",
    "Stores the steps and related parts if a scenario. The dictionary changes dynamically based on the scenario content. For example, the dictionary only has the `'table': {...}` kaey if the step has a table."
   ]
  },
  {
   "cell_type": "code",
   "execution_count": 4,
   "metadata": {},
   "outputs": [
    {
     "data": {
      "text/plain": [
       "[{'step': 'Given',\n",
       "  'description': 'we knead the dough into a <Size> wide pizza disc',\n",
       "  'docstring-language': 'markdown',\n",
       "  'docstring': '# Pizza Dough Recipe\\n\\n> Source: [Sam Merritt - The Best Pizza Dough Recipe (article)](https://sugarspunrun.com/the-best-pizza-dough-recipe/)\\n\\n## Ingredients\\n\\n- [ ] 2-2 ⅓ cups all-purpose flour OR bread flour divided (250-295g)\\n- [ ] 1 packet instant yeast (2 ¼ teaspoon)\\n- [ ] 1 ½ teaspoons sugar\\n- [ ] ¾ teaspoon salt\\n- [ ] ⅛-¼ teaspoon garlic powder and/or dried basil leaves optional\\n- [ ] 2 Tablespoons olive oil + additional\\n- [ ] ¾ cup warm water (175ml)\\n\\n## Instructions\\n\\n1. Combine 1 cup (125g) of flour, instant yeast, sugar, and salt in a large bowl. If desired, add garlic powder and dried basil at this point as well.\\n2. Add olive oil and warm water and use a wooden spoon to stir well very well.\\n3. Gradually add another 1 cup (125g) of flour. Add any additional flour as needed (I\\'ve found that sometimes I need as much as an additional ⅓ cup), stirring until the dough is forming into a cohesive, elastic ball and is beginning to pull away from the sides of the bowl (see video above recipe for visual cue). The dough will still be slightly sticky but still should be manageable with your hands.\\n4. Drizzle a separate, large, clean bowl generously with olive oil and use a pastry brush to brush up the sides of the bowl.\\n5. Lightly dust your hands with flour and form your pizza dough into a round ball and transfer to your olive oil-brushed bowl. Use your hands to roll the pizza dough along the inside of the bowl until it is coated in olive oil, then cover the bowl tightly with plastic wrap and place it in a warm place.\\n6. Allow dough to rise for 30 minutes or until doubled in size. If you intend to bake this dough into a pizza, I also recommend preheating your oven to 425F (215C) at this point so that it will have reached temperature once your pizza is ready to bake.\\n7. Once the dough has risen, use your hands to gently deflate it and transfer to a lightly floured surface and knead briefly until smooth (about 3-5 times). \\n8. Use either your hands or a rolling pin to work the dough into 12\" circle.\\n9. Transfer dough to a parchment paper lined pizza pan and either pinch the edges or fold them over to form a crust.\\n10. Drizzle additional olive oil (about a Tablespoon) over the top of the pizza and use your pastry brush to brush the entire surface of the pizza (including the crust) with olive oil. \\n11. Use a fork to poke holes all over the center of the pizza to keep the dough from bubbling up in the oven.'},\n",
       " {'step': 'Given',\n",
       "  'description': 'we put the ingredients on the pizza disc in the following order:',\n",
       "  'table': {'Order': ['<Sauce>', '<Toppings>']}},\n",
       " {'step': 'When', 'description': 'we cook the pizza'},\n",
       " {'step': 'Then', 'description': 'the <Type> pizza is ready to eat'}]"
      ]
     },
     "execution_count": 4,
     "metadata": {},
     "output_type": "execute_result"
    }
   ],
   "source": [
    "scenario.steps"
   ]
  },
  {
   "cell_type": "markdown",
   "metadata": {},
   "source": [
    "### step table\n",
    "\n",
    "The table headers are stores as keys and the other column data is stored as the values in a list format. These tables can be rebuilt with the `build_table(Dict[str, List[str]]): str` function."
   ]
  },
  {
   "cell_type": "code",
   "execution_count": 5,
   "metadata": {},
   "outputs": [
    {
     "data": {
      "text/plain": [
       "{'Order': ['<Sauce>', '<Toppings>']}"
      ]
     },
     "execution_count": 5,
     "metadata": {},
     "output_type": "execute_result"
    }
   ],
   "source": [
    "scenario.steps[1]['table']"
   ]
  },
  {
   "cell_type": "code",
   "execution_count": 6,
   "metadata": {},
   "outputs": [
    {
     "name": "stdout",
     "output_type": "stream",
     "text": [
      "| Order      |\n",
      "| <Sauce>    |\n",
      "| <Toppings> |\n"
     ]
    }
   ],
   "source": [
    "print(build_table(scenario.steps[1]['table']))"
   ]
  },
  {
   "cell_type": "markdown",
   "metadata": {},
   "source": [
    "### step docstring\n",
    "\n",
    "The docstring may have a language definition right after the opening. It is stored in the \"docstring-language\" key's value. If there is no language defined, then the key's value is `None`. The docstring's content is stored as raw text, without any modification."
   ]
  },
  {
   "cell_type": "code",
   "execution_count": 7,
   "metadata": {},
   "outputs": [
    {
     "data": {
      "text/plain": [
       "'markdown'"
      ]
     },
     "execution_count": 7,
     "metadata": {},
     "output_type": "execute_result"
    }
   ],
   "source": [
    "scenario.steps[0]['docstring-language']"
   ]
  },
  {
   "cell_type": "code",
   "execution_count": 8,
   "metadata": {},
   "outputs": [
    {
     "data": {
      "text/plain": [
       "'# Pizza Dough Recipe\\n\\n> Source: [Sam Merritt - The Best Pizza Dough Recipe (article)](https://sugarspunrun.com/the-best-pizza-dough-recipe/)\\n\\n## Ingredients\\n\\n- [ ] 2-2 ⅓ cups all-purpose flour OR bread flour divided (250-295g)\\n- [ ] 1 packet instant yeast (2 ¼ teaspoon)\\n- [ ] 1 ½ teaspoons sugar\\n- [ ] ¾ teaspoon salt\\n- [ ] ⅛-¼ teaspoon garlic powder and/or dried basil leaves optional\\n- [ ] 2 Tablespoons olive oil + additional\\n- [ ] ¾ cup warm water (175ml)\\n\\n## Instructions\\n\\n1. Combine 1 cup (125g) of flour, instant yeast, sugar, and salt in a large bowl. If desired, add garlic powder and dried basil at this point as well.\\n2. Add olive oil and warm water and use a wooden spoon to stir well very well.\\n3. Gradually add another 1 cup (125g) of flour. Add any additional flour as needed (I\\'ve found that sometimes I need as much as an additional ⅓ cup), stirring until the dough is forming into a cohesive, elastic ball and is beginning to pull away from the sides of the bowl (see video above recipe for visual cue). The dough will still be slightly sticky but still should be manageable with your hands.\\n4. Drizzle a separate, large, clean bowl generously with olive oil and use a pastry brush to brush up the sides of the bowl.\\n5. Lightly dust your hands with flour and form your pizza dough into a round ball and transfer to your olive oil-brushed bowl. Use your hands to roll the pizza dough along the inside of the bowl until it is coated in olive oil, then cover the bowl tightly with plastic wrap and place it in a warm place.\\n6. Allow dough to rise for 30 minutes or until doubled in size. If you intend to bake this dough into a pizza, I also recommend preheating your oven to 425F (215C) at this point so that it will have reached temperature once your pizza is ready to bake.\\n7. Once the dough has risen, use your hands to gently deflate it and transfer to a lightly floured surface and knead briefly until smooth (about 3-5 times). \\n8. Use either your hands or a rolling pin to work the dough into 12\" circle.\\n9. Transfer dough to a parchment paper lined pizza pan and either pinch the edges or fold them over to form a crust.\\n10. Drizzle additional olive oil (about a Tablespoon) over the top of the pizza and use your pastry brush to brush the entire surface of the pizza (including the crust) with olive oil. \\n11. Use a fork to poke holes all over the center of the pizza to keep the dough from bubbling up in the oven.'"
      ]
     },
     "execution_count": 8,
     "metadata": {},
     "output_type": "execute_result"
    }
   ],
   "source": [
    "scenario.steps[0]['docstring']"
   ]
  },
  {
   "cell_type": "code",
   "execution_count": 9,
   "metadata": {},
   "outputs": [
    {
     "name": "stdout",
     "output_type": "stream",
     "text": [
      "# Pizza Dough Recipe\n",
      "\n",
      "> Source: [Sam Merritt - The Best Pizza Dough Recipe (article)](https://sugarspunrun.com/the-best-pizza-dough-recipe/)\n",
      "\n",
      "## Ingredients\n",
      "\n",
      "- [ ] 2-2 ⅓ cups all-purpose flour OR bread flour divided (250-295g)\n",
      "- [ ] 1 packet instant yeast (2 ¼ teaspoon)\n",
      "- [ ] 1 ½ teaspoons sugar\n",
      "- [ ] ¾ teaspoon salt\n",
      "- [ ] ⅛-¼ teaspoon garlic powder and/or dried basil leaves optional\n",
      "- [ ] 2 Tablespoons olive oil + additional\n",
      "- [ ] ¾ cup warm water (175ml)\n",
      "\n",
      "## Instructions\n",
      "\n",
      "1. Combine 1 cup (125g) of flour, instant yeast, sugar, and salt in a large bowl. If desired, add garlic powder and dried basil at this point as well.\n",
      "2. Add olive oil and warm water and use a wooden spoon to stir well very well.\n",
      "3. Gradually add another 1 cup (125g) of flour. Add any additional flour as needed (I've found that sometimes I need as much as an additional ⅓ cup), stirring until the dough is forming into a cohesive, elastic ball and is beginning to pull away from the sides of the bowl (see video above recipe for visual cue). The dough will still be slightly sticky but still should be manageable with your hands.\n",
      "4. Drizzle a separate, large, clean bowl generously with olive oil and use a pastry brush to brush up the sides of the bowl.\n",
      "5. Lightly dust your hands with flour and form your pizza dough into a round ball and transfer to your olive oil-brushed bowl. Use your hands to roll the pizza dough along the inside of the bowl until it is coated in olive oil, then cover the bowl tightly with plastic wrap and place it in a warm place.\n",
      "6. Allow dough to rise for 30 minutes or until doubled in size. If you intend to bake this dough into a pizza, I also recommend preheating your oven to 425F (215C) at this point so that it will have reached temperature once your pizza is ready to bake.\n",
      "7. Once the dough has risen, use your hands to gently deflate it and transfer to a lightly floured surface and knead briefly until smooth (about 3-5 times). \n",
      "8. Use either your hands or a rolling pin to work the dough into 12\" circle.\n",
      "9. Transfer dough to a parchment paper lined pizza pan and either pinch the edges or fold them over to form a crust.\n",
      "10. Drizzle additional olive oil (about a Tablespoon) over the top of the pizza and use your pastry brush to brush the entire surface of the pizza (including the crust) with olive oil. \n",
      "11. Use a fork to poke holes all over the center of the pizza to keep the dough from bubbling up in the oven.\n"
     ]
    }
   ],
   "source": [
    "print(scenario.steps[0]['docstring'])"
   ]
  },
  {
   "cell_type": "markdown",
   "metadata": {},
   "source": [
    "## template_table\n",
    "\n",
    "Stores the template table of a scenario. If the scenario is not a template scenario, then it is set to `None`."
   ]
  },
  {
   "cell_type": "code",
   "execution_count": 10,
   "metadata": {},
   "outputs": [
    {
     "data": {
      "text/plain": [
       "{'Type': ['Margherita',\n",
       "  'Margherita',\n",
       "  'Pepperoni',\n",
       "  'Pepperoni',\n",
       "  'Hawaiian',\n",
       "  'Hawaiian',\n",
       "  'Veggie',\n",
       "  'Veggie',\n",
       "  'BBQ Chicken',\n",
       "  'BBQ Chicken'],\n",
       " 'Sauce': ['tomato',\n",
       "  'tomato',\n",
       "  'tomato',\n",
       "  'tomato',\n",
       "  'tomato',\n",
       "  'tomato',\n",
       "  'pesto',\n",
       "  'pesto',\n",
       "  'BBQ',\n",
       "  'BBQ'],\n",
       " 'Toppings': ['mozzarella,basil',\n",
       "  'mozzarella,basil',\n",
       "  'pepperoni,mozzarella',\n",
       "  'pepperoni,mozzarella',\n",
       "  'ham,pineapple,mozzarella',\n",
       "  'ham,pineapple,mozzarella',\n",
       "  'bell peppers,olive,spinach',\n",
       "  'bell peppers,olive,spinach',\n",
       "  'chicken,onion,cilantro',\n",
       "  'chicken,onion,cilantro'],\n",
       " 'Size': ['28cm',\n",
       "  '32cm',\n",
       "  '28cm',\n",
       "  '32cm',\n",
       "  '28cm',\n",
       "  '32cm',\n",
       "  '28cm',\n",
       "  '32cm',\n",
       "  '28cm',\n",
       "  '32cm']}"
      ]
     },
     "execution_count": 10,
     "metadata": {},
     "output_type": "execute_result"
    }
   ],
   "source": [
    "scenario.template_table"
   ]
  },
  {
   "cell_type": "code",
   "execution_count": 11,
   "metadata": {},
   "outputs": [
    {
     "name": "stdout",
     "output_type": "stream",
     "text": [
      "| Type        | Sauce  | Toppings                   | Size |\n",
      "| Margherita  | tomato | mozzarella,basil           | 28cm |\n",
      "| Margherita  | tomato | mozzarella,basil           | 32cm |\n",
      "| Pepperoni   | tomato | pepperoni,mozzarella       | 28cm |\n",
      "| Pepperoni   | tomato | pepperoni,mozzarella       | 32cm |\n",
      "| Hawaiian    | tomato | ham,pineapple,mozzarella   | 28cm |\n",
      "| Hawaiian    | tomato | ham,pineapple,mozzarella   | 32cm |\n",
      "| Veggie      | pesto  | bell peppers,olive,spinach | 28cm |\n",
      "| Veggie      | pesto  | bell peppers,olive,spinach | 32cm |\n",
      "| BBQ Chicken | BBQ    | chicken,onion,cilantro     | 28cm |\n",
      "| BBQ Chicken | BBQ    | chicken,onion,cilantro     | 32cm |\n"
     ]
    }
   ],
   "source": [
    "print(build_table(scenario.template_table))"
   ]
  }
 ],
 "metadata": {
  "kernelspec": {
   "display_name": "Python 3",
   "language": "python",
   "name": "python3"
  },
  "language_info": {
   "codemirror_mode": {
    "name": "ipython",
    "version": 3
   },
   "file_extension": ".py",
   "mimetype": "text/x-python",
   "name": "python",
   "nbconvert_exporter": "python",
   "pygments_lexer": "ipython3",
   "version": "3.12.8"
  }
 },
 "nbformat": 4,
 "nbformat_minor": 2
}
