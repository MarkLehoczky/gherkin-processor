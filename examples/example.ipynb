{
 "cells": [
  {
   "cell_type": "markdown",
   "metadata": {},
   "source": [
    "# Example and Usage of ***Gherkin Processor***\n",
    "\n",
    "This notebook demonstrates the usage of ***Gherkin Processor*** Python package."
   ]
  },
  {
   "cell_type": "markdown",
   "metadata": {},
   "source": [
    "**Features**:\n",
    "\n",
    "- Gherkin scenario validation\n",
    "- Gherkin scenario syntax issue description\n",
    "- Gherkin scenario content processing into Python data class\n",
    "\n",
    "**Examples:**\n",
    "\n",
    "1. **Simple Example**: Showcases the basic functionality of the package.\n",
    "2. **Complex Example**: Showcases the processing of the more complex and feature-rich Gherkin scenario.\n",
    "3. **Invalid Gherkin Syntax Detection**: Showcases how to detect syntax errors with the package."
   ]
  },
  {
   "cell_type": "markdown",
   "metadata": {},
   "source": [
    "## Prerequisites\n",
    "\n",
    "The following modules can be imported:"
   ]
  },
  {
   "cell_type": "code",
   "execution_count": 1,
   "metadata": {},
   "outputs": [],
   "source": [
    "from gherkin_processor.utils import scenario    # file\n",
    "from gherkin_processor.scenario import Scenario # class"
   ]
  },
  {
   "cell_type": "markdown",
   "metadata": {},
   "source": [
    "## 1 Simple Example\n",
    "\n",
    "The Gherkin scenario is loaded from a file."
   ]
  },
  {
   "cell_type": "code",
   "execution_count": 2,
   "metadata": {},
   "outputs": [
    {
     "name": "stdout",
     "output_type": "stream",
     "text": [
      "Scenario: Make hotdog\n",
      "Given the sausage is cooked\n",
      "When the sausage is put into a bun\n",
      "Then the hotdog is ready to eat\n"
     ]
    }
   ],
   "source": [
    "with open(\"examples/data/simple_example.feature\", \"r\") as simple_example_file:\n",
    "    simple_example_text: str = simple_example_file.read()\n",
    "\n",
    "print(simple_example_text)"
   ]
  },
  {
   "cell_type": "markdown",
   "metadata": {},
   "source": [
    "### 1.1 Scenario Syntax Validation\n",
    "\n",
    "There are multiple functions in the `gherkin_processor.utils.scenario` module that allow certain type of validation of the Gherkin scenario syntax."
   ]
  },
  {
   "cell_type": "markdown",
   "metadata": {},
   "source": [
    "#### 1.1.1 `scenario.is_valid(str)`\n",
    "\n",
    "Determines whether a Gherkin scenario syntax is valid.\n",
    "\n",
    "**Parameters:**\n",
    "\n",
    "- `scenario_text` (str): Scenario in a text format.\n",
    "\n",
    "**Returns:**\n",
    "\n",
    "- `bool`: `True` if the scenario syntax is valid, otherwise `False`."
   ]
  },
  {
   "cell_type": "code",
   "execution_count": 3,
   "metadata": {},
   "outputs": [
    {
     "data": {
      "text/plain": [
       "True"
      ]
     },
     "execution_count": 3,
     "metadata": {},
     "output_type": "execute_result"
    }
   ],
   "source": [
    "scenario.is_valid(simple_example_text)"
   ]
  },
  {
   "cell_type": "markdown",
   "metadata": {},
   "source": [
    "#### 1.1.2 `scenario.validate(str)`\n",
    "\n",
    "Determines potential issue in a Gherkin scenario syntax.\n",
    "If the scenario is valid, then it does not provide issue description.\n",
    "\n",
    "**Parameters:**\n",
    "\n",
    "- `scenario_text` (str): Scenario in a text format.\n",
    "\n",
    "**Returns:**\n",
    "\n",
    "- `str | None`: Issue description if the scenario syntax is invalid, otherwise `None`."
   ]
  },
  {
   "cell_type": "code",
   "execution_count": 4,
   "metadata": {},
   "outputs": [],
   "source": [
    "scenario.validate(simple_example_text)"
   ]
  },
  {
   "cell_type": "markdown",
   "metadata": {},
   "source": [
    "#### 1.1.3 `scenario.issue_description(str)`\n",
    "\n",
    "Determines whether a Gherkin scenario syntax is valid.\n",
    "\n",
    "**Parameters:**\n",
    "\n",
    "- `scenario_text` (str): Scenario in a text format.\n",
    "\n",
    "**Returns:**\n",
    "\n",
    "- `str`: Issue description if the scenario syntax is valid, otherwise an empty string."
   ]
  },
  {
   "cell_type": "code",
   "execution_count": 5,
   "metadata": {},
   "outputs": [
    {
     "data": {
      "text/plain": [
       "'None'"
      ]
     },
     "execution_count": 5,
     "metadata": {},
     "output_type": "execute_result"
    }
   ],
   "source": [
    "scenario.issue_description(simple_example_text)"
   ]
  },
  {
   "cell_type": "markdown",
   "metadata": {},
   "source": [
    "### 1.2 Gherkin Scenario Processing\n",
    "\n",
    "To process a Gherkin scenario, both the `Scenario(str)` data class constructor and the `scenario.process(str, bool=True)` function can be used."
   ]
  },
  {
   "cell_type": "markdown",
   "metadata": {},
   "source": [
    "#### 1.2.1 `Scenario(str)`\n",
    "\n",
    "Using the constructor does not allow syntax error detection, it tries to process the text.\n",
    "\n",
    "**Parameters:**\n",
    "\n",
    "- `scenario_text` (str): Scenario in a text format.\n",
    "\n",
    "**Returns:**\n",
    "\n",
    "- `Scenario`: Scenario processed into parts."
   ]
  },
  {
   "cell_type": "code",
   "execution_count": 6,
   "metadata": {},
   "outputs": [],
   "source": [
    "simple_example_processed: Scenario = Scenario(simple_example_text)"
   ]
  },
  {
   "cell_type": "markdown",
   "metadata": {},
   "source": [
    "#### 1.2.2 `scenario.process(str, bool=True)`\n",
    "\n",
    "Depending on the second '*raise_error*' parameter, the scenario syntax validation can be controlled. If it is set to `True` (default), then the function checks the validity of the scenario syntax. If there is an issue with the syntax, then it raises an error with the issue description.\n",
    "\n",
    "**Parameters:**\n",
    "\n",
    "- `scenario_text` (str): Scenario in a text format.\n",
    "- `raise_error` (bool): Configuration of syntax issue detection. [Default=True]\n",
    "\n",
    "**Returns:**\n",
    "\n",
    "- `Scenario`: Scenario processed into parts.\n",
    "\n",
    "**Raises:**\n",
    "\n",
    "- `TypeError`: The `scenario_text` parameter is not `str` type.\n",
    "- `ValueError`: The `scenario_text` scenario has syntax issue. The message contains the issue description."
   ]
  },
  {
   "cell_type": "code",
   "execution_count": 7,
   "metadata": {},
   "outputs": [],
   "source": [
    "simple_example_processed: Scenario = scenario.process(simple_example_text, raise_error=True)"
   ]
  },
  {
   "cell_type": "markdown",
   "metadata": {},
   "source": [
    "## 1.3 Processed Scenario Parts"
   ]
  },
  {
   "cell_type": "markdown",
   "metadata": {},
   "source": [
    "### 1.3.1 tags (`List[str]`)\n",
    "\n",
    "Tags are stored as string in a list.\n",
    "\n",
    "> Note: This simple scenario does not have tags."
   ]
  },
  {
   "cell_type": "code",
   "execution_count": 8,
   "metadata": {},
   "outputs": [
    {
     "data": {
      "text/plain": [
       "[]"
      ]
     },
     "execution_count": 8,
     "metadata": {},
     "output_type": "execute_result"
    }
   ],
   "source": [
    "simple_example_processed.tags"
   ]
  },
  {
   "cell_type": "markdown",
   "metadata": {},
   "source": [
    "### 1.3.2 name (`str`)\n",
    "\n",
    "Name / description of the scenario. Only contains the name part, the keyword is removed."
   ]
  },
  {
   "cell_type": "code",
   "execution_count": 9,
   "metadata": {},
   "outputs": [
    {
     "data": {
      "text/plain": [
       "'Make hotdog'"
      ]
     },
     "execution_count": 9,
     "metadata": {},
     "output_type": "execute_result"
    }
   ],
   "source": [
    "simple_example_processed.name"
   ]
  },
  {
   "cell_type": "markdown",
   "metadata": {},
   "source": [
    "### 1.3.3 steps (`List[Dict[str, Dict[str, List[str]] | str]]`)\n",
    "\n",
    "Steps of the scenario. The steps are stored as dictionary items in a list.\n",
    "\n",
    "Based on the step, the item may be expanded with 'docstring', 'docstring-language' or 'table' parts. These only appear if the part is actually present.\n",
    "\n",
    "> Note: This simple scenario does not have any of the additional parts."
   ]
  },
  {
   "cell_type": "code",
   "execution_count": 10,
   "metadata": {},
   "outputs": [
    {
     "data": {
      "text/plain": [
       "[{'step': 'Given', 'description': 'the sausage is cooked'},\n",
       " {'step': 'When', 'description': 'the sausage is put into a bun'},\n",
       " {'step': 'Then', 'description': 'the hotdog is ready to eat'}]"
      ]
     },
     "execution_count": 10,
     "metadata": {},
     "output_type": "execute_result"
    }
   ],
   "source": [
    "simple_example_processed.steps"
   ]
  },
  {
   "cell_type": "markdown",
   "metadata": {},
   "source": [
    "### 1.3.4 template_table (`Optional[Dict[str, List[str]]]`)\n",
    "\n",
    "Table content of the scenario examples if the scenario is a template scenario. The table is stored as a dictionary where the keys are the headers and the values are lists with the table items.\n",
    "\n",
    "If the scenario is not template scenario, then it's value is `None`.\n",
    "\n",
    "> Note: This simple scenario is not a template scenario."
   ]
  },
  {
   "cell_type": "code",
   "execution_count": 11,
   "metadata": {},
   "outputs": [],
   "source": [
    "simple_example_processed.template_table"
   ]
  },
  {
   "cell_type": "markdown",
   "metadata": {},
   "source": [
    "# 2 Complex Example\n",
    "\n",
    "The Gherkin scenario is loaded from a file."
   ]
  },
  {
   "cell_type": "code",
   "execution_count": 12,
   "metadata": {},
   "outputs": [
    {
     "name": "stdout",
     "output_type": "stream",
     "text": [
      "@italian\n",
      "@american @canadian\n",
      "# Due to having multiple pizza types, there are multiple country of origin\n",
      "Scenario Outline: Make pizza\n",
      "\n",
      "Given we knead the dough into a <Size> wide pizza disc\n",
      "\"\"\"markdown\n",
      "# Pizza Dough Recipe\n",
      "\n",
      "> Source: [Sam Merritt - The Best Pizza Dough Recipe (article)](https://sugarspunrun.com/the-best-pizza-dough-recipe/)\n",
      "\n",
      "## Ingredients\n",
      "\n",
      "- [ ] 2-2 ⅓ cups all-purpose flour OR bread flour divided (250-295g)\n",
      "- [ ] 1 packet instant yeast (2 ¼ teaspoon)\n",
      "- [ ] 1 ½ teaspoons sugar\n",
      "- [ ] ¾ teaspoon salt\n",
      "- [ ] ⅛-¼ teaspoon garlic powder and/or dried basil leaves optional\n",
      "- [ ] 2 Tablespoons olive oil + additional\n",
      "- [ ] ¾ cup warm water (175ml)\n",
      "\n",
      "## Instructions\n",
      "\n",
      "1. Combine 1 cup (125g) of flour, instant yeast, sugar, and salt in a large bowl. If desired, add garlic powder and dried basil at this point as well.\n",
      "2. Add olive oil and warm water and use a wooden spoon to stir well very well.\n",
      "3. Gradually add another 1 cup (125g) of flour. Add any additional flour as needed (I've found that sometimes I need as much as an additional ⅓ cup), stirring until the dough is forming into a cohesive, elastic ball and is beginning to pull away from the sides of the bowl (see video above recipe for visual cue). The dough will still be slightly sticky but still should be manageable with your hands.\n",
      "4. Drizzle a separate, large, clean bowl generously with olive oil and use a pastry brush to brush up the sides of the bowl.\n",
      "5. Lightly dust your hands with flour and form your pizza dough into a round ball and transfer to your olive oil-brushed bowl. Use your hands to roll the pizza dough along the inside of the bowl until it is coated in olive oil, then cover the bowl tightly with plastic wrap and place it in a warm place.\n",
      "6. Allow dough to rise for 30 minutes or until doubled in size. If you intend to bake this dough into a pizza, I also recommend preheating your oven to 425F (215C) at this point so that it will have reached temperature once your pizza is ready to bake.\n",
      "7. Once the dough has risen, use your hands to gently deflate it and transfer to a lightly floured surface and knead briefly until smooth (about 3-5 times). \n",
      "8. Use either your hands or a rolling pin to work the dough into 12\" circle.\n",
      "9. Transfer dough to a parchment paper lined pizza pan and either pinch the edges or fold them over to form a crust.\n",
      "10. Drizzle additional olive oil (about a Tablespoon) over the top of the pizza and use your pastry brush to brush the entire surface of the pizza (including the crust) with olive oil. \n",
      "11. Use a fork to poke holes all over the center of the pizza to keep the dough from bubbling up in the oven.\n",
      "\"\"\"\n",
      "And we put the ingredients on the pizza disc in the following order:\n",
      "| Order      |\n",
      "| <Sauce>    |\n",
      "| <Toppings> |\n",
      "When we cook the pizza\n",
      "Then the <Type> pizza is ready to eat\n",
      "\n",
      "Examples:\n",
      "| Type         | Sauce   | Toppings                   | Size |\n",
      "| Margherita   | tomato  | mozzarella,basil           | 28cm |\n",
      "| Margherita   | tomato  | mozzarella,basil           | 32cm |\n",
      "| Pepperoni    | tomato  | pepperoni,mozzarella       | 28cm |\n",
      "| Pepperoni    | tomato  | pepperoni,mozzarella       | 32cm |\n",
      "| Hawaiian     | tomato  | ham,pineapple,mozzarella   | 28cm |\n",
      "| Hawaiian     | tomato  | ham,pineapple,mozzarella   | 32cm |\n",
      "| Veggie       | pesto   | bell peppers,olive,spinach | 28cm |\n",
      "| Veggie       | pesto   | bell peppers,olive,spinach | 32cm |\n",
      "| BBQ Chicken  | BBQ     | chicken,onion,cilantro     | 28cm |\n",
      "| BBQ Chicken  | BBQ     | chicken,onion,cilantro     | 32cm |\n",
      "\n"
     ]
    }
   ],
   "source": [
    "with open(\"examples/data/complex_example.feature\", \"r\", encoding=\"utf-8\") as complex_example_file:\n",
    "    complex_example_text: str = complex_example_file.read()\n",
    "\n",
    "print(complex_example_text)"
   ]
  },
  {
   "cell_type": "markdown",
   "metadata": {},
   "source": [
    "The complex scenario is processed."
   ]
  },
  {
   "cell_type": "code",
   "execution_count": 13,
   "metadata": {},
   "outputs": [],
   "source": [
    "complex_example_processed: Scenario = scenario.process(complex_example_text)"
   ]
  },
  {
   "cell_type": "markdown",
   "metadata": {},
   "source": [
    "# 2.1 tags (`List[str]`)"
   ]
  },
  {
   "cell_type": "code",
   "execution_count": 14,
   "metadata": {},
   "outputs": [
    {
     "data": {
      "text/plain": [
       "['american', 'canadian', 'italian']"
      ]
     },
     "execution_count": 14,
     "metadata": {},
     "output_type": "execute_result"
    }
   ],
   "source": [
    "complex_example_processed.tags"
   ]
  },
  {
   "cell_type": "markdown",
   "metadata": {},
   "source": [
    "## 2.2 name (`str`)"
   ]
  },
  {
   "cell_type": "code",
   "execution_count": 15,
   "metadata": {},
   "outputs": [
    {
     "data": {
      "text/plain": [
       "'Make pizza'"
      ]
     },
     "execution_count": 15,
     "metadata": {},
     "output_type": "execute_result"
    }
   ],
   "source": [
    "complex_example_processed.name"
   ]
  },
  {
   "cell_type": "markdown",
   "metadata": {},
   "source": [
    "## 2.3 steps (`List[Dict[str, Dict[str, List[str]] | str]]`)"
   ]
  },
  {
   "cell_type": "markdown",
   "metadata": {},
   "source": [
    "### 2.3.1 step with docstring"
   ]
  },
  {
   "cell_type": "code",
   "execution_count": 16,
   "metadata": {},
   "outputs": [
    {
     "data": {
      "text/plain": [
       "{'step': 'Given',\n",
       " 'description': 'we knead the dough into a <Size> wide pizza disc',\n",
       " 'docstring-language': 'markdown',\n",
       " 'docstring': '# Pizza Dough Recipe\\n\\n> Source: [Sam Merritt - The Best Pizza Dough Recipe (article)](https://sugarspunrun.com/the-best-pizza-dough-recipe/)\\n\\n## Ingredients\\n\\n- [ ] 2-2 ⅓ cups all-purpose flour OR bread flour divided (250-295g)\\n- [ ] 1 packet instant yeast (2 ¼ teaspoon)\\n- [ ] 1 ½ teaspoons sugar\\n- [ ] ¾ teaspoon salt\\n- [ ] ⅛-¼ teaspoon garlic powder and/or dried basil leaves optional\\n- [ ] 2 Tablespoons olive oil + additional\\n- [ ] ¾ cup warm water (175ml)\\n\\n## Instructions\\n\\n1. Combine 1 cup (125g) of flour, instant yeast, sugar, and salt in a large bowl. If desired, add garlic powder and dried basil at this point as well.\\n2. Add olive oil and warm water and use a wooden spoon to stir well very well.\\n3. Gradually add another 1 cup (125g) of flour. Add any additional flour as needed (I\\'ve found that sometimes I need as much as an additional ⅓ cup), stirring until the dough is forming into a cohesive, elastic ball and is beginning to pull away from the sides of the bowl (see video above recipe for visual cue). The dough will still be slightly sticky but still should be manageable with your hands.\\n4. Drizzle a separate, large, clean bowl generously with olive oil and use a pastry brush to brush up the sides of the bowl.\\n5. Lightly dust your hands with flour and form your pizza dough into a round ball and transfer to your olive oil-brushed bowl. Use your hands to roll the pizza dough along the inside of the bowl until it is coated in olive oil, then cover the bowl tightly with plastic wrap and place it in a warm place.\\n6. Allow dough to rise for 30 minutes or until doubled in size. If you intend to bake this dough into a pizza, I also recommend preheating your oven to 425F (215C) at this point so that it will have reached temperature once your pizza is ready to bake.\\n7. Once the dough has risen, use your hands to gently deflate it and transfer to a lightly floured surface and knead briefly until smooth (about 3-5 times). \\n8. Use either your hands or a rolling pin to work the dough into 12\" circle.\\n9. Transfer dough to a parchment paper lined pizza pan and either pinch the edges or fold them over to form a crust.\\n10. Drizzle additional olive oil (about a Tablespoon) over the top of the pizza and use your pastry brush to brush the entire surface of the pizza (including the crust) with olive oil. \\n11. Use a fork to poke holes all over the center of the pizza to keep the dough from bubbling up in the oven.'}"
      ]
     },
     "execution_count": 16,
     "metadata": {},
     "output_type": "execute_result"
    }
   ],
   "source": [
    "complex_example_processed.steps[0]"
   ]
  },
  {
   "cell_type": "markdown",
   "metadata": {},
   "source": [
    "#### 2.3.1.1 docstring format display"
   ]
  },
  {
   "cell_type": "code",
   "execution_count": 17,
   "metadata": {},
   "outputs": [
    {
     "name": "stdout",
     "output_type": "stream",
     "text": [
      "# Pizza Dough Recipe\n",
      "\n",
      "> Source: [Sam Merritt - The Best Pizza Dough Recipe (article)](https://sugarspunrun.com/the-best-pizza-dough-recipe/)\n",
      "\n",
      "## Ingredients\n",
      "\n",
      "- [ ] 2-2 ⅓ cups all-purpose flour OR bread flour divided (250-295g)\n",
      "- [ ] 1 packet instant yeast (2 ¼ teaspoon)\n",
      "- [ ] 1 ½ teaspoons sugar\n",
      "- [ ] ¾ teaspoon salt\n",
      "- [ ] ⅛-¼ teaspoon garlic powder and/or dried basil leaves optional\n",
      "- [ ] 2 Tablespoons olive oil + additional\n",
      "- [ ] ¾ cup warm water (175ml)\n",
      "\n",
      "## Instructions\n",
      "\n",
      "1. Combine 1 cup (125g) of flour, instant yeast, sugar, and salt in a large bowl. If desired, add garlic powder and dried basil at this point as well.\n",
      "2. Add olive oil and warm water and use a wooden spoon to stir well very well.\n",
      "3. Gradually add another 1 cup (125g) of flour. Add any additional flour as needed (I've found that sometimes I need as much as an additional ⅓ cup), stirring until the dough is forming into a cohesive, elastic ball and is beginning to pull away from the sides of the bowl (see video above recipe for visual cue). The dough will still be slightly sticky but still should be manageable with your hands.\n",
      "4. Drizzle a separate, large, clean bowl generously with olive oil and use a pastry brush to brush up the sides of the bowl.\n",
      "5. Lightly dust your hands with flour and form your pizza dough into a round ball and transfer to your olive oil-brushed bowl. Use your hands to roll the pizza dough along the inside of the bowl until it is coated in olive oil, then cover the bowl tightly with plastic wrap and place it in a warm place.\n",
      "6. Allow dough to rise for 30 minutes or until doubled in size. If you intend to bake this dough into a pizza, I also recommend preheating your oven to 425F (215C) at this point so that it will have reached temperature once your pizza is ready to bake.\n",
      "7. Once the dough has risen, use your hands to gently deflate it and transfer to a lightly floured surface and knead briefly until smooth (about 3-5 times). \n",
      "8. Use either your hands or a rolling pin to work the dough into 12\" circle.\n",
      "9. Transfer dough to a parchment paper lined pizza pan and either pinch the edges or fold them over to form a crust.\n",
      "10. Drizzle additional olive oil (about a Tablespoon) over the top of the pizza and use your pastry brush to brush the entire surface of the pizza (including the crust) with olive oil. \n",
      "11. Use a fork to poke holes all over the center of the pizza to keep the dough from bubbling up in the oven.\n"
     ]
    }
   ],
   "source": [
    "print(complex_example_processed.steps[0][\"docstring\"])"
   ]
  },
  {
   "cell_type": "markdown",
   "metadata": {},
   "source": [
    "### 2.3.2 step with table"
   ]
  },
  {
   "cell_type": "code",
   "execution_count": 18,
   "metadata": {},
   "outputs": [
    {
     "data": {
      "text/plain": [
       "{'step': 'Given',\n",
       " 'description': 'we put the ingredients on the pizza disc in the following order:',\n",
       " 'table': {'Order': ['<Sauce>', '<Toppings>']}}"
      ]
     },
     "execution_count": 18,
     "metadata": {},
     "output_type": "execute_result"
    }
   ],
   "source": [
    "complex_example_processed.steps[1]"
   ]
  },
  {
   "cell_type": "markdown",
   "metadata": {},
   "source": [
    "### 2.3.3 step"
   ]
  },
  {
   "cell_type": "code",
   "execution_count": 19,
   "metadata": {},
   "outputs": [
    {
     "data": {
      "text/plain": [
       "{'step': 'When', 'description': 'we cook the pizza'}"
      ]
     },
     "execution_count": 19,
     "metadata": {},
     "output_type": "execute_result"
    }
   ],
   "source": [
    "complex_example_processed.steps[2]"
   ]
  },
  {
   "cell_type": "markdown",
   "metadata": {},
   "source": [
    "### 2.3.4 step"
   ]
  },
  {
   "cell_type": "code",
   "execution_count": 20,
   "metadata": {},
   "outputs": [
    {
     "data": {
      "text/plain": [
       "{'step': 'Then', 'description': 'the <Type> pizza is ready to eat'}"
      ]
     },
     "execution_count": 20,
     "metadata": {},
     "output_type": "execute_result"
    }
   ],
   "source": [
    "complex_example_processed.steps[3]"
   ]
  },
  {
   "cell_type": "markdown",
   "metadata": {},
   "source": [
    "## 2.4 template_table (`Optional[Dict[str, List[str]]]`)"
   ]
  },
  {
   "cell_type": "code",
   "execution_count": 21,
   "metadata": {},
   "outputs": [
    {
     "data": {
      "text/plain": [
       "{'Type': ['Margherita',\n",
       "  'Margherita',\n",
       "  'Pepperoni',\n",
       "  'Pepperoni',\n",
       "  'Hawaiian',\n",
       "  'Hawaiian',\n",
       "  'Veggie',\n",
       "  'Veggie',\n",
       "  'BBQ Chicken',\n",
       "  'BBQ Chicken'],\n",
       " 'Sauce': ['tomato',\n",
       "  'tomato',\n",
       "  'tomato',\n",
       "  'tomato',\n",
       "  'tomato',\n",
       "  'tomato',\n",
       "  'pesto',\n",
       "  'pesto',\n",
       "  'BBQ',\n",
       "  'BBQ'],\n",
       " 'Toppings': ['mozzarella,basil',\n",
       "  'mozzarella,basil',\n",
       "  'pepperoni,mozzarella',\n",
       "  'pepperoni,mozzarella',\n",
       "  'ham,pineapple,mozzarella',\n",
       "  'ham,pineapple,mozzarella',\n",
       "  'bell peppers,olive,spinach',\n",
       "  'bell peppers,olive,spinach',\n",
       "  'chicken,onion,cilantro',\n",
       "  'chicken,onion,cilantro'],\n",
       " 'Size': ['28cm',\n",
       "  '32cm',\n",
       "  '28cm',\n",
       "  '32cm',\n",
       "  '28cm',\n",
       "  '32cm',\n",
       "  '28cm',\n",
       "  '32cm',\n",
       "  '28cm',\n",
       "  '32cm']}"
      ]
     },
     "execution_count": 21,
     "metadata": {},
     "output_type": "execute_result"
    }
   ],
   "source": [
    "complex_example_processed.template_table"
   ]
  },
  {
   "cell_type": "markdown",
   "metadata": {},
   "source": [
    "# 3 Invalid Gherkin Syntax Detection\n",
    "\n",
    "The **Simple Example** section showcased the functions which help with syntax issue detection and description. This section showcases the results of faulty scenarios.\n",
    "\n",
    "> Note: This section does not cover all of the issue detections and issue descriptions.\n",
    "\n",
    "The faulty Gherkin scenarios are loaded from a file."
   ]
  },
  {
   "cell_type": "code",
   "execution_count": 22,
   "metadata": {},
   "outputs": [
    {
     "name": "stdout",
     "output_type": "stream",
     "text": [
      "Scenario: Make pizza\n",
      "Given we knead the dough into a <Size> wide pizza disc\n",
      "And we put the ingredients on the pizza disc in the following order:\n",
      "| Order      |\n",
      "| <Sauce>    |\n",
      "| <Toppings> |\n",
      "Then the <Type> pizza is ready to eat\n",
      "When we cook the pizza\n"
     ]
    }
   ],
   "source": [
    "with open(\"examples/data/invalid_step_order_example.feature\", \"r\", encoding=\"utf-8\") as invalid_step_order_example_file:\n",
    "    invalid_step_order_example_text: str = invalid_step_order_example_file.read()\n",
    "\n",
    "print(invalid_step_order_example_text)"
   ]
  },
  {
   "cell_type": "code",
   "execution_count": 23,
   "metadata": {},
   "outputs": [
    {
     "name": "stdout",
     "output_type": "stream",
     "text": [
      "Scenario: Make pizza\n",
      "Given we knead the dough into a <Size> wide pizza disc\n",
      "And we put the ingredients on the pizza disc in the following order:\n",
      "| Order      |\n",
      "| <Sauce>    | Olive oil |\n",
      "| <Toppings> |\n",
      "When we cook the pizza\n",
      "Then the <Type> pizza is ready to eat\n"
     ]
    }
   ],
   "source": [
    "with open(\"examples/data/invalid_table_example.feature\", \"r\", encoding=\"utf-8\") as invalid_table_example_file:\n",
    "    invalid_table_example_text: str = invalid_table_example_file.read()\n",
    "\n",
    "print(invalid_table_example_text)"
   ]
  },
  {
   "cell_type": "markdown",
   "metadata": {},
   "source": [
    "# 3.1 Not string parameter\n",
    "\n",
    "Only the `scenario.process(str, bool=True)` function handles incorrect parameter type, the other functions assume that the parameter types are correct."
   ]
  },
  {
   "cell_type": "code",
   "execution_count": 24,
   "metadata": {},
   "outputs": [
    {
     "name": "stdout",
     "output_type": "stream",
     "text": [
      "TypeError: Parameter 'scenario_text' is not string type.\n"
     ]
    }
   ],
   "source": [
    "try:\n",
    "     scenario.process(None, True)\n",
    "except TypeError as error:\n",
    "    print(\"TypeError:\", error)"
   ]
  },
  {
   "cell_type": "markdown",
   "metadata": {},
   "source": [
    "# 3.2 Empty string parameter"
   ]
  },
  {
   "cell_type": "code",
   "execution_count": 25,
   "metadata": {},
   "outputs": [
    {
     "data": {
      "text/plain": [
       "False"
      ]
     },
     "execution_count": 25,
     "metadata": {},
     "output_type": "execute_result"
    }
   ],
   "source": [
    "scenario.is_valid(\"\")"
   ]
  },
  {
   "cell_type": "code",
   "execution_count": 26,
   "metadata": {},
   "outputs": [
    {
     "data": {
      "text/plain": [
       "'Scenario is empty.'"
      ]
     },
     "execution_count": 26,
     "metadata": {},
     "output_type": "execute_result"
    }
   ],
   "source": [
    "scenario.validate(\"\")"
   ]
  },
  {
   "cell_type": "code",
   "execution_count": 27,
   "metadata": {},
   "outputs": [
    {
     "data": {
      "text/plain": [
       "'Scenario is empty.'"
      ]
     },
     "execution_count": 27,
     "metadata": {},
     "output_type": "execute_result"
    }
   ],
   "source": [
    "scenario.issue_description(\"\")"
   ]
  },
  {
   "cell_type": "code",
   "execution_count": 28,
   "metadata": {},
   "outputs": [
    {
     "name": "stdout",
     "output_type": "stream",
     "text": [
      "ValueError: Scenario is empty.\n"
     ]
    }
   ],
   "source": [
    "try:\n",
    "    scenario.process(\"\")\n",
    "except ValueError as error:\n",
    "    print(\"ValueError:\", error)"
   ]
  },
  {
   "cell_type": "markdown",
   "metadata": {},
   "source": [
    "## 3.3 Invalid step order"
   ]
  },
  {
   "cell_type": "code",
   "execution_count": 29,
   "metadata": {},
   "outputs": [
    {
     "data": {
      "text/plain": [
       "False"
      ]
     },
     "execution_count": 29,
     "metadata": {},
     "output_type": "execute_result"
    }
   ],
   "source": [
    "scenario.is_valid(invalid_step_order_example_text)"
   ]
  },
  {
   "cell_type": "code",
   "execution_count": 30,
   "metadata": {},
   "outputs": [
    {
     "data": {
      "text/plain": [
       "'Prohibited keyword in \\'GIVEN step table\\' at line [7]: \"Then the <Type> pizza is ready to eat\".'"
      ]
     },
     "execution_count": 30,
     "metadata": {},
     "output_type": "execute_result"
    }
   ],
   "source": [
    "scenario.validate(invalid_step_order_example_text)"
   ]
  },
  {
   "cell_type": "code",
   "execution_count": 31,
   "metadata": {},
   "outputs": [
    {
     "data": {
      "text/plain": [
       "'Prohibited keyword in \\'GIVEN step table\\' at line [7]: \"Then the <Type> pizza is ready to eat\".'"
      ]
     },
     "execution_count": 31,
     "metadata": {},
     "output_type": "execute_result"
    }
   ],
   "source": [
    "scenario.issue_description(invalid_step_order_example_text)"
   ]
  },
  {
   "cell_type": "code",
   "execution_count": 32,
   "metadata": {},
   "outputs": [
    {
     "name": "stdout",
     "output_type": "stream",
     "text": [
      "ValueError: Prohibited keyword in 'GIVEN step table' at line [7]: \"Then the <Type> pizza is ready to eat\".\n"
     ]
    }
   ],
   "source": [
    "try:\n",
    "    scenario.process(invalid_step_order_example_text)\n",
    "except ValueError as error:\n",
    "    print(\"ValueError:\", error)"
   ]
  },
  {
   "cell_type": "markdown",
   "metadata": {},
   "source": [
    "## 3.3 Invalid table format"
   ]
  },
  {
   "cell_type": "code",
   "execution_count": 33,
   "metadata": {},
   "outputs": [
    {
     "data": {
      "text/plain": [
       "False"
      ]
     },
     "execution_count": 33,
     "metadata": {},
     "output_type": "execute_result"
    }
   ],
   "source": [
    "scenario.is_valid(invalid_table_example_text)"
   ]
  },
  {
   "cell_type": "code",
   "execution_count": 34,
   "metadata": {},
   "outputs": [
    {
     "data": {
      "text/plain": [
       "'Incorrect table format in \\'GIVEN step table header\\' at line [5]: \"| <Sauce>    | Olive oil |\".'"
      ]
     },
     "execution_count": 34,
     "metadata": {},
     "output_type": "execute_result"
    }
   ],
   "source": [
    "scenario.validate(invalid_table_example_text)"
   ]
  },
  {
   "cell_type": "code",
   "execution_count": 35,
   "metadata": {},
   "outputs": [
    {
     "data": {
      "text/plain": [
       "'Incorrect table format in \\'GIVEN step table header\\' at line [5]: \"| <Sauce>    | Olive oil |\".'"
      ]
     },
     "execution_count": 35,
     "metadata": {},
     "output_type": "execute_result"
    }
   ],
   "source": [
    "scenario.issue_description(invalid_table_example_text)"
   ]
  },
  {
   "cell_type": "code",
   "execution_count": 36,
   "metadata": {},
   "outputs": [
    {
     "name": "stdout",
     "output_type": "stream",
     "text": [
      "ValueError: Incorrect table format in 'GIVEN step table header' at line [5]: \"| <Sauce>    | Olive oil |\".\n"
     ]
    }
   ],
   "source": [
    "try:\n",
    "    scenario.process(invalid_table_example_text)\n",
    "except ValueError as error:\n",
    "    print(\"ValueError:\", error)"
   ]
  }
 ],
 "metadata": {
  "kernelspec": {
   "display_name": "Python 3",
   "language": "python",
   "name": "python3"
  },
  "language_info": {
   "codemirror_mode": {
    "name": "ipython",
    "version": 3
   },
   "file_extension": ".py",
   "mimetype": "text/x-python",
   "name": "python",
   "nbconvert_exporter": "python",
   "pygments_lexer": "ipython3",
   "version": "3.12.8"
  }
 },
 "nbformat": 4,
 "nbformat_minor": 2
}
