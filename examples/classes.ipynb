{
 "cells": [
  {
   "cell_type": "markdown",
   "metadata": {},
   "source": [
    "# Gherkin Processor Classes Examples\n",
    "This notebook demonstrates the usage of the Gherkin Processor classes."
   ]
  },
  {
   "cell_type": "code",
   "execution_count": 6,
   "metadata": {},
   "outputs": [],
   "source": [
    "# Import necessary classes\n",
    "from gherkin_processor.gherkin import Gherkin\n",
    "from gherkin_processor.components import Background, Scenario, Step"
   ]
  },
  {
   "cell_type": "markdown",
   "metadata": {},
   "source": [
    "## Example 1: Create and Print a Gherkin Object\n",
    "Create a Gherkin object and print its string representation."
   ]
  },
  {
   "cell_type": "code",
   "execution_count": 7,
   "metadata": {},
   "outputs": [
    {
     "name": "stdout",
     "output_type": "stream",
     "text": [
      "Feature: Example Feature\n",
      "This is an example feature.\n",
      "\n",
      "\n"
     ]
    }
   ],
   "source": [
    "gherkin = Gherkin()\n",
    "gherkin.feature.name = \"Example Feature\"\n",
    "gherkin.feature.description = \"This is an example feature.\"\n",
    "print(gherkin.to_string())"
   ]
  },
  {
   "cell_type": "markdown",
   "metadata": {},
   "source": [
    "## Example 2: Add a Rule to a Gherkin Object\n",
    "Add a rule to the Gherkin object."
   ]
  },
  {
   "cell_type": "code",
   "execution_count": 8,
   "metadata": {},
   "outputs": [
    {
     "name": "stdout",
     "output_type": "stream",
     "text": [
      "Feature: Example Feature\n",
      "This is an example feature.\n",
      "Rule: Example Rule\n",
      "This is an example rule.\n",
      "\n"
     ]
    }
   ],
   "source": [
    "gherkin.rule.name = \"Example Rule\"\n",
    "gherkin.rule.description = \"This is an example rule.\"\n",
    "print(gherkin.to_string())"
   ]
  },
  {
   "cell_type": "markdown",
   "metadata": {},
   "source": [
    "## Example 3: Add a Background to a Gherkin Object\n",
    "Add a background to the Gherkin object."
   ]
  },
  {
   "cell_type": "code",
   "execution_count": 9,
   "metadata": {},
   "outputs": [
    {
     "name": "stdout",
     "output_type": "stream",
     "text": [
      "Feature: Example Feature\n",
      "This is an example feature.\n",
      "Rule: Example Rule\n",
      "This is an example rule.\n",
      "This is an example background.\n"
     ]
    }
   ],
   "source": [
    "background = Background()\n",
    "background.description = \"This is an example background.\"\n",
    "gherkin.background = background\n",
    "print(gherkin.to_string())"
   ]
  },
  {
   "cell_type": "markdown",
   "metadata": {},
   "source": [
    "## Example 4: Add a Scenario to a Gherkin Object\n",
    "Add a scenario with steps to the Gherkin object."
   ]
  },
  {
   "cell_type": "code",
   "execution_count": 10,
   "metadata": {},
   "outputs": [
    {
     "name": "stdout",
     "output_type": "stream",
     "text": [
      "Feature: Example Feature\n",
      "This is an example feature.\n",
      "Rule: Example Rule\n",
      "This is an example rule.\n",
      "This is an example background.\n",
      "Scenario: Example Scenario\n",
      "Given an example step\n"
     ]
    }
   ],
   "source": [
    "scenario = Scenario()\n",
    "scenario.name = \"Example Scenario\"\n",
    "step = Step()\n",
    "step.type = \"Given\"\n",
    "step.text = \"an example step\"\n",
    "scenario.steps.append(step)\n",
    "gherkin.scenarios.append(scenario)\n",
    "print(gherkin.to_string())"
   ]
  }
 ],
 "metadata": {
  "kernelspec": {
   "display_name": "Python 3",
   "language": "python",
   "name": "python3"
  },
  "language_info": {
   "codemirror_mode": {
    "name": "ipython",
    "version": 3
   },
   "file_extension": ".py",
   "mimetype": "text/x-python",
   "name": "python",
   "nbconvert_exporter": "python",
   "pygments_lexer": "ipython3",
   "version": "3.13.2"
  }
 },
 "nbformat": 4,
 "nbformat_minor": 2
}
